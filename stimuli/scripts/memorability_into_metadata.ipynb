{
 "cells": [
  {
   "cell_type": "code",
   "execution_count": 1,
   "metadata": {},
   "outputs": [],
   "source": [
    "import json\n",
    "import numpy as np\n",
    "import pandas as pd"
   ]
  },
  {
   "cell_type": "code",
   "execution_count": 3,
   "metadata": {},
   "outputs": [],
   "source": [
    "meta_path = '../metadata_all_pairs_mb_altered.json'\n",
    "\n",
    "# read file\n",
    "with open(meta_path, 'r') as myfile:\n",
    "    data=myfile.read()\n",
    "\n",
    "# parse file\n",
    "meta = json.loads(data)"
   ]
  },
  {
   "cell_type": "code",
   "execution_count": 11,
   "metadata": {},
   "outputs": [],
   "source": [
    "mb_path = '../face_memorability_estimates.json'\n",
    "with open(mb_path, 'r') as myfile:\n",
    "    data=myfile.read()\n",
    "\n",
    "# parse file\n",
    "mb = json.loads(data)"
   ]
  },
  {
   "cell_type": "code",
   "execution_count": 8,
   "metadata": {},
   "outputs": [],
   "source": [
    "tilts_LR = ['50L', '25L', '00C', '25R', '50R']\n",
    "tilts_UD = ['U', 'C', 'D']"
   ]
  },
  {
   "cell_type": "code",
   "execution_count": 16,
   "metadata": {},
   "outputs": [],
   "source": [
    "for iden in meta.keys():\n",
    "    gray_lm = []\n",
    "    color = []\n",
    "    for lr in tilts_LR:\n",
    "        for ud in tilts_UD:\n",
    "            tmp = meta[iden][lr][ud]['file'] # gets filename\n",
    "            meta[iden][lr][ud] = {\n",
    "                'file': tmp,\n",
    "                'mb_version1_gray_lm': mb['version1_gray_lm'][tmp],\n",
    "                'mb_version1_color': mb['version1_color'][tmp]\n",
    "            }\n",
    "            gray_lm.append(mb['version1_gray_lm'][tmp])\n",
    "            color.append(mb['version1_color'][tmp])\n",
    "    meta[iden]['mb_version1_gray_lm'] = np.mean(gray_lm)\n",
    "    meta[iden]['mb_version1_color'] = np.mean(color)"
   ]
  },
  {
   "cell_type": "code",
   "execution_count": null,
   "metadata": {},
   "outputs": [],
   "source": []
  },
  {
   "cell_type": "code",
   "execution_count": null,
   "metadata": {},
   "outputs": [],
   "source": []
  },
  {
   "cell_type": "code",
   "execution_count": null,
   "metadata": {},
   "outputs": [],
   "source": []
  },
  {
   "cell_type": "code",
   "execution_count": null,
   "metadata": {},
   "outputs": [],
   "source": []
  },
  {
   "cell_type": "code",
   "execution_count": 19,
   "metadata": {},
   "outputs": [],
   "source": [
    "# export meta as new json file\n",
    "with open('../metadata_all_pairs_mb.json', 'w') as file:\n",
    "    file.write(json.dumps(meta)) # use `json.loads` to do the reverse"
   ]
  },
  {
   "cell_type": "code",
   "execution_count": null,
   "metadata": {},
   "outputs": [],
   "source": []
  }
 ],
 "metadata": {
  "kernelspec": {
   "display_name": "Python 3",
   "language": "python",
   "name": "python3"
  },
  "language_info": {
   "codemirror_mode": {
    "name": "ipython",
    "version": 3
   },
   "file_extension": ".py",
   "mimetype": "text/x-python",
   "name": "python",
   "nbconvert_exporter": "python",
   "pygments_lexer": "ipython3",
   "version": "3.7.5"
  }
 },
 "nbformat": 4,
 "nbformat_minor": 2
}
