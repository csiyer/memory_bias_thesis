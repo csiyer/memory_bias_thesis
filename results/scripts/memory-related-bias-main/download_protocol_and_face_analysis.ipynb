{
 "cells": [
  {
   "cell_type": "markdown",
   "metadata": {},
   "source": [
    "to connect to the database, you need to open up a tunnel from the command line, e.g.: \n",
    "\n",
    "```$ ssh -fNL 27017:localhost:27017 {username}@stanfordmemorylab.com```\n",
    "\n",
    "and then enter your password"
   ]
  },
  {
   "cell_type": "markdown",
   "metadata": {},
   "source": [
    "if you don't already have the mongo database-related password information locally \n",
    "\n",
    "```$  scp -r chris @stanfordmemorylab.com:/home/chris/face_experiment/credentials/ local/path/to/save/credentials```"
   ]
  },
  {
   "cell_type": "code",
   "execution_count": 1,
   "metadata": {},
   "outputs": [],
   "source": [
    "import pickle, pandas, os, json, pymongo, numpy as np\n",
    "import matplotlib.pyplot as plt\n",
    "import warnings; warnings.filterwarnings('ignore')\n",
    "import statsmodels.formula.api as smf\n",
    "from datetime import datetime\n",
    "from PIL import Image"
   ]
  },
  {
   "cell_type": "code",
   "execution_count": 2,
   "metadata": {},
   "outputs": [],
   "source": [
    "%matplotlib inline"
   ]
  },
  {
   "cell_type": "code",
   "execution_count": 3,
   "metadata": {},
   "outputs": [],
   "source": [
    "# def establish_mongo_connection(location, keyname, mongo_database, mongo_collection): \n",
    "#     \"\"\"\n",
    "#     connect to database. Requires a connection to server was established via terminal, e.g.\n",
    "#     $ ssh -fNL 27017:localhost:27017 tyler@stanfordmemorylab.com\n",
    "#     \"\"\"\n",
    "#     # load information from credentials\n",
    "#     access_info = json.load(open(location + keyname))\n",
    "#     # set up the 'tunnel' we'll be using to access the server\n",
    "#     mongo_tunnel = 'mongodb://' + access_info['user'] + ':' + access_info['pwd'] + '@127.0.0.1'\n",
    "#     # conect to the mongo client on the server\n",
    "#     connection = pymongo.MongoClient(mongo_tunnel)\n",
    "#     # connect to the database\n",
    "#     data_base = connection[mongo_database]\n",
    "#     # connect to the collection\n",
    "#     collection = data_base[mongo_collection]\n",
    "    \n",
    "#     return collection"
   ]
  },
  {
   "cell_type": "code",
   "execution_count": 4,
   "metadata": {},
   "outputs": [],
   "source": [
    "# credential location -- this a copy of the credentials folder on the server\n",
    "location = 'credentials/'\n",
    "# aws key name \n",
    "aws_rootkey = 'aws_keys.json'\n",
    "# mongo key name\n",
    "keyname = 'mongo_keys'"
   ]
  },
  {
   "cell_type": "code",
   "execution_count": 5,
   "metadata": {},
   "outputs": [],
   "source": [
    "access_info = json.load(open(location + keyname))\n",
    "# set up the 'tunnel' we'll be using to access the server\n",
    "mongo_tunnel = 'mongodb://' + access_info['user'] + ':' + access_info['pwd'] + '@127.0.0.1'\n",
    "# conect to the mongo client on the server\n",
    "connection = pymongo.MongoClient(mongo_tunnel)"
   ]
  },
  {
   "cell_type": "code",
   "execution_count": 6,
   "metadata": {},
   "outputs": [],
   "source": [
    "## name of mongo database to look through\n",
    "mongo_database = \"faces\"\n",
    "## name of mongo collection\n",
    "mongo_collection = \"classification_task\"\n",
    "## \n",
    "# load information from credentials\n",
    "access_info = json.load(open(location + keyname))\n",
    "# set up the 'tunnel' we'll be using to access the server\n",
    "mongo_tunnel = 'mongodb://' + access_info['user'] + ':' + access_info['pwd'] + '@127.0.0.1'\n",
    "# conect to the mongo client on the server\n",
    "connection = pymongo.MongoClient(mongo_tunnel)\n",
    "# connect to the database\n",
    "data_base = connection[mongo_database]\n",
    "# connect to the collection\n",
    "collection = data_base[mongo_collection]"
   ]
  },
  {
   "cell_type": "code",
   "execution_count": 7,
   "metadata": {},
   "outputs": [
    {
     "name": "stdout",
     "output_type": "stream",
     "text": [
      "collection name classification_task has 5052 documents\n"
     ]
    }
   ],
   "source": [
    "delete_collection_documents = 0\n",
    "for i_collection_name in data_base.list_collection_names(): \n",
    "    i_collection = data_base[i_collection_name]\n",
    "    print('collection name', i_collection_name, 'has %d documents'%len( [i for i in i_collection.find({})]))"
   ]
  },
  {
   "cell_type": "code",
   "execution_count": null,
   "metadata": {},
   "outputs": [],
   "source": [
    "# takes a while to load everything from the server\n",
    "all_trials = [i for i in collection.find({})]\n",
    "trial_df = pandas.DataFrame({})\n",
    "summary_df = pandas.DataFrame({})\n",
    "\n",
    "for i_trial in all_trials: \n",
    "    if 'id' in i_trial: \n",
    "        trial_df = trial_df.append( {i: i_trial[i] for i in i_trial}, ignore_index=True) \n",
    "    else: \n",
    "        summary_df = summary_df.append( {i: i_trial[i] for i in i_trial}, ignore_index=True)"
   ]
  },
  {
   "cell_type": "code",
   "execution_count": null,
   "metadata": {},
   "outputs": [],
   "source": [
    "save_data = 1 \n",
    "\n",
    "if save_data: \n",
    "    mongo_info = '%s_%s_%s.csv'%(mongo_database, mongo_collection, datetime.today().strftime(\"%d_%m_%Y\"))\n",
    "\n",
    "    summary_df.to_csv('summarydata_%s.csv'%mongo_info)\n",
    "    trial_df.to_csv('trialdata_%s.csv'%mongo_info) "
   ]
  },
  {
   "cell_type": "code",
   "execution_count": null,
   "metadata": {},
   "outputs": [],
   "source": [
    "rsps = [trial_df.iloc[i].response_race[0] for i in range(len(trial_df)) if len(trial_df.iloc[i].response_race)>1]\n",
    "groups = np.unique( rsps )"
   ]
  },
  {
   "cell_type": "code",
   "execution_count": null,
   "metadata": {
    "scrolled": false
   },
   "outputs": [],
   "source": [
    "id_counts = {} \n",
    "id_list = [] \n",
    "for i_id in trial_df.id.unique(): \n",
    "    \n",
    "    idtrials = trial_df[ trial_df.id == i_id] \n",
    "    id_lables = [i for i in [i[0] for i in idtrials.response_race if (len(i)>0)] if i in groups]\n",
    "    id_vector = [np.sum( np.array(id_lables) == i) for i in groups] \n",
    "    id_counts[i_id] = id_vector/np.sum( id_vector ) \n",
    "    id_list.append( id_counts[i_id] )\n",
    "    #plt.plot( [np.sum( np.array(id_counts[i_id]) == i) for i in groups]  )"
   ]
  },
  {
   "cell_type": "code",
   "execution_count": null,
   "metadata": {},
   "outputs": [],
   "source": [
    "plt.hist([groups [ id_counts[i].argmax() ] for i in id_counts]); \n",
    "plt.title('using \"max\" classification strategy', y=1.05); \n",
    "plt.xlabel('\\n\\nGROUP'); "
   ]
  },
  {
   "cell_type": "code",
   "execution_count": null,
   "metadata": {},
   "outputs": [],
   "source": [
    "plt.hist([groups [ id_counts[i].argmax() ] for i in id_counts]); \n",
    "plt.hist([groups [ id_counts[i].argmax() ] for i in id_counts if id_counts[i].max()>.50]); \n",
    "plt.hist([groups [ id_counts[i].argmax() ] for i in id_counts if id_counts[i].max()>.70]);\n",
    "plt.xlabel('\\n\\nGROUP'); "
   ]
  },
  {
   "cell_type": "code",
   "execution_count": null,
   "metadata": {},
   "outputs": [],
   "source": [
    "for i_group in groups: \n",
    "    group_vals = [id_counts[i].max() for i in id_counts if groups[id_counts[i].argmax()]==i_group]\n",
    "    plt.scatter(x=np.ones(len(group_vals))* np.argmax( groups==i_group ), y=group_vals, alpha=.5\n",
    "               ) \n",
    "plt.xticks(range(len(groups)), groups); \n",
    "plt.title('ratio of labels within the \"max\" category for each image')"
   ]
  },
  {
   "cell_type": "code",
   "execution_count": null,
   "metadata": {},
   "outputs": [],
   "source": [
    "id_reliability = {} \n",
    "n_iterations = 50 \n",
    "null = {} \n",
    "\n",
    "for i_id in trial_df.id.unique(): \n",
    "    \n",
    "    idtrials = trial_df[ trial_df.id == i_id] \n",
    "    \n",
    "    id_lables = [i for i in [i[0] for i in idtrials.response_race if (len(i)>0)] if i in groups]\n",
    "    \n",
    "    permutations = [] \n",
    "    nullspace = [] \n",
    "    for i_iteration in range(n_iterations): \n",
    "        \n",
    "        shuffled_labels = np.random.permutation( id_lables ) \n",
    "        \n",
    "        shuffled_a = shuffled_labels[:len(shuffled_labels)//2]\n",
    "        shuffled_b = shuffled_labels[len(shuffled_labels)//2:]\n",
    "\n",
    "        vector_a = [np.sum( np.array(shuffled_a) == i) for i in groups]\n",
    "        vector_b = [np.sum( np.array(shuffled_b) == i) for i in groups]\n",
    "\n",
    "        vector_a = vector_a/np.sum(vector_a)\n",
    "        vector_b = vector_b/np.sum(vector_b)\n",
    "        \n",
    "        permutations.append(  np.corrcoef( vector_a, vector_b)[0, 1] )\n",
    "        nullspace.append(  np.corrcoef( vector_a, np.random.permutation(vector_b))[0, 1] )\n",
    "    \n",
    "    id_reliability[i_id] = np.median( permutations ) \n",
    "    null[i_id] = np.median( nullspace ) "
   ]
  },
  {
   "cell_type": "code",
   "execution_count": null,
   "metadata": {},
   "outputs": [],
   "source": [
    "plt.hist([id_reliability[i] for i in id_reliability], bins=30) ; \n",
    "plt.xlabel('split half reliability (across participants) for ratings of each image')\n",
    "plt.hist([null[i] for i in null], bins=20, alpha=.2, color='grey') ; "
   ]
  },
  {
   "cell_type": "code",
   "execution_count": null,
   "metadata": {},
   "outputs": [],
   "source": [
    "plt.figure(figsize=[5,5])\n",
    "colors = {'black':'red',  'white':'blue', \n",
    "          'east_asian':'pink', 'south_asian':'purple',\n",
    "          'latinx':'green', 'other':'yellow',}\n",
    "for i_group in groups: \n",
    "    \n",
    "    group_maxdata = [] \n",
    "    group_reliability = [] \n",
    "        \n",
    "    for i_idx in id_counts: \n",
    "        \n",
    "        if groups[id_counts[i_idx].argmax()]==i_group: \n",
    "\n",
    "            group_maxdata.append( id_counts[i_idx].max()) \n",
    "            group_reliability.append( id_reliability[i_idx])\n",
    "            \n",
    "    plt.scatter(x=group_reliability, y=group_maxdata, facecolor='', edgecolor=colors[i_group], \n",
    "                linewidth=.8, \n",
    "                label=i_group)\n",
    "    plt.xlabel('split-half reliabilty for each image across participants', y=-3)\n",
    "    plt.ylabel('max value for each image')\n",
    "plt.legend()\n",
    "plt.title('relationship between each image\\'s \"max\" value \\nand inter-rater reliability ', y=1.05)\n",
    "plt.plot([-1, 2], [-1, 2], color='grey', linestyle=':')\n",
    "plt.ylim([.15, 1.1])\n",
    "plt.xlim([.15, 1.1])"
   ]
  },
  {
   "cell_type": "code",
   "execution_count": null,
   "metadata": {},
   "outputs": [],
   "source": [
    "sorted_ids = np.sort(list(id_counts)) \n",
    "sorted_groups = {} \n",
    "\n",
    "for i_group in groups: \n",
    "    \n",
    "    group_ratings = [id_counts[i_id][ np.argmax( i_group == groups ) ] for i_id in sorted_ids]\n",
    "    sorted_groups[i_group] = np.array( sorted_ids) [ np.array(group_ratings).argsort()[::-1] ] # decending order\n",
    "    "
   ]
  },
  {
   "cell_type": "code",
   "execution_count": null,
   "metadata": {},
   "outputs": [],
   "source": [
    "plt.figure(figsize=[15,6])\n",
    "iplot=1\n",
    "for i_group in groups: \n",
    "    \n",
    "    i_id = sorted_groups[i_group][0]\n",
    "    path  = '/Users/biota/working/faces/experiment_images'\n",
    "    i_image = '%s/id%s_00C_C.png'%(path, i_id)\n",
    "    plt.subplot(2,3,iplot); iplot+=1 \n",
    "    image_array = np.array( Image.open(i_image) )\n",
    "    plt.imshow( image_array )\n",
    "    plt.axis('off')\n",
    "    plt.title( i_group.upper()  ); \n",
    "    for ratio in range(len(groups)): \n",
    "        plt.text(len(image_array), 120 + ratio*50, '%.02f, %s'%(id_counts[i_id][ratio], groups[ratio]),\n",
    "                fontsize=13)\n",
    "\n",
    "plt.suptitle('visualizing the most reliably rated ids for each category', y=1.05, fontsize=15); "
   ]
  },
  {
   "cell_type": "code",
   "execution_count": null,
   "metadata": {
    "scrolled": false
   },
   "outputs": [],
   "source": [
    "for i_group in groups: \n",
    "    \n",
    "    plt.figure(figsize=[15,6])\n",
    "    iplot=1\n",
    "    for i_face in range(6): \n",
    "        i_id = sorted_groups[i_group][i_face]\n",
    "        path  = '/Users/biota/working/faces/experiment_images'\n",
    "        i_image = '%s/id%s_00C_C.png'%(path, i_id)\n",
    "        plt.subplot(2,3,iplot); iplot+=1 \n",
    "        image_array = np.array( Image.open(i_image) )\n",
    "        plt.imshow( image_array )\n",
    "        plt.axis('off')\n",
    "        for ratio in range(len(groups)): \n",
    "            plt.text(len(image_array), 120 + ratio*50, '%.02f, %s'%(id_counts[i_id][ratio], groups[ratio]),\n",
    "                    fontsize=12)\n",
    "        \n",
    "    plt.suptitle('visualizing the n reliably rated ids for category: %s'%i_group, y=1.05, fontsize=15); "
   ]
  },
  {
   "cell_type": "code",
   "execution_count": null,
   "metadata": {},
   "outputs": [],
   "source": [
    "plt.figure(figsize=[15,6])\n",
    "iplot=1\n",
    "path  = '/Users/biota/working/faces/experiment_images'\n",
    "for i_id in np.random.permutation(list( id_counts ))[:6]: \n",
    "    \n",
    "    i_image = '%s/id%s_00C_C.png'%(path, i_id)\n",
    "    plt.subplot(2,3,iplot); iplot+=1 \n",
    "    image_array = np.array( Image.open(i_image) )\n",
    "    plt.imshow( image_array )\n",
    "    plt.axis('off')\n",
    "    plt.title( 'face mostly rated as %s'%groups[ id_counts[i_id].argmax() ]  ); \n",
    "    for ratio in range(len(groups)): \n",
    "        plt.text(len(image_array), 120 + ratio*50, '%.02f, %s'%(id_counts[i_id][ratio], groups[ratio]),\n",
    "                fontsize=13)\n",
    "\n",
    "plt.suptitle('visualizing random faces', y=1.05, fontsize=15); "
   ]
  },
  {
   "cell_type": "code",
   "execution_count": null,
   "metadata": {},
   "outputs": [],
   "source": [
    "from sklearn.cluster import KMeans\n",
    "import numpy as np\n",
    "X = np.array( id_list )\n",
    "iplot = 1\n",
    "plt.figure(figsize=[15,10])\n",
    "for i_cluster in [2,3,4,5,6,7]: \n",
    "    kmeans = KMeans(n_clusters=i_cluster, random_state=0).fit(X)\n",
    "    kmeans.labels_\n",
    "\n",
    "    sorted_list = [] \n",
    "    sorted_labels = [] \n",
    "\n",
    "    for group in np.unique( kmeans.labels_ ): \n",
    "        for i in range(len(id_list)): \n",
    "            if kmeans.labels_[i] == group:\n",
    "                sorted_list.append( id_list[i])\n",
    "        sorted_list.append( np.zeros(len(groups)))\n",
    "        sorted_list.append( np.zeros(len(groups)))\n",
    "        sorted_list.append( np.zeros(len(groups)))\n",
    "    \n",
    "    plt.subplot(2,3,iplot); iplot+=1\n",
    "    plt.imshow( np.corrcoef( sorted_list ) , cmap='viridis') \n",
    "    plt.xticks( range(len( sorted_labels )), sorted_labels, size=2); \n",
    "    plt.title('n clusters is %d'%i_cluster)\n",
    "    plt.axis('off')"
   ]
  },
  {
   "cell_type": "code",
   "execution_count": null,
   "metadata": {},
   "outputs": [],
   "source": [
    "from sklearn.metrics import silhouette_score\n",
    "\n",
    "sil = []\n",
    "kmax = 7\n",
    "\n",
    "# dissimilarity would not be defined for a single cluster, thus, minimum number of clusters should be 2\n",
    "for k in range(2, kmax+1):\n",
    "    kmeans = KMeans(n_clusters = k).fit(id_list)\n",
    "    labels = kmeans.labels_\n",
    "    sil.append(silhouette_score(id_list, labels, metric = 'euclidean'))\n",
    "\n",
    "Sum_of_squared_distances = []\n",
    "K = range(1,kmax)\n",
    "for k in K:\n",
    "    km = KMeans(n_clusters=k)\n",
    "    km = km.fit(id_list)\n",
    "    Sum_of_squared_distances.append(km.inertia_)"
   ]
  },
  {
   "cell_type": "code",
   "execution_count": 37,
   "metadata": {},
   "outputs": [
    {
     "data": {
      "text/plain": [
       "[<matplotlib.lines.Line2D at 0x7f9b49755310>]"
      ]
     },
     "execution_count": 37,
     "metadata": {},
     "output_type": "execute_result"
    },
    {
     "data": {
      "image/png": "[encoded data removed]",
      "text/plain": [
       "<Figure size 720x288 with 2 Axes>"
      ]
     },
     "metadata": {
      "needs_background": "light"
     },
     "output_type": "display_data"
    }
   ],
   "source": [
    "plt.figure(figsize=[10,4])\n",
    "plt.subplot(121)\n",
    "plt.plot( sil )\n",
    "\n",
    "plt.subplot(122)\n",
    "plt.plot( Sum_of_squared_distances )"
   ]
  }
 ],
 "metadata": {
  "kernelspec": {
   "display_name": "Python 3",
   "language": "python",
   "name": "python3"
  },
  "language_info": {
   "codemirror_mode": {
    "name": "ipython",
    "version": 3
   },
   "file_extension": ".py",
   "mimetype": "text/x-python",
   "name": "python",
   "nbconvert_exporter": "python",
   "pygments_lexer": "ipython3",
   "version": "3.8.8"
  }
 },
 "nbformat": 4,
 "nbformat_minor": 2
}
