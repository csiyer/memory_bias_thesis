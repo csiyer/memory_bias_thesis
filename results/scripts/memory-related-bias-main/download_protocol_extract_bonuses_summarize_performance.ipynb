{
 "cells": [
  {
   "cell_type": "markdown",
   "metadata": {},
   "source": [
    "to connect to the database, you need to open up a tunnel from the command line, e.g.: \n",
    "\n",
    "```$ ssh -fNL 27017:localhost:27017 chris@stanfordmemorylab.com```\n",
    "\n",
    "and then enter your password\n",
    "\n",
    "if you don't already have the mongo database-related password information locally \n",
    "\n",
    "```$  scp -r chris@stanfordmemorylab.com:/home/chris/face_experiment/credentials/ local/path/to/save/credentials```"
   ]
  },
  {
   "cell_type": "code",
   "execution_count": 25,
   "metadata": {},
   "outputs": [],
   "source": [
    "import pickle, pandas, os, json, pymongo, numpy as np\n",
    "import matplotlib.pyplot as plt\n",
    "import warnings; warnings.filterwarnings('ignore')\n",
    "import statsmodels.formula.api as smf\n",
    "from datetime import datetime\n",
    "from PIL import Image"
   ]
  },
  {
   "cell_type": "code",
   "execution_count": 26,
   "metadata": {},
   "outputs": [],
   "source": [
    "%matplotlib inline"
   ]
  },
  {
   "cell_type": "code",
   "execution_count": 27,
   "metadata": {},
   "outputs": [],
   "source": [
    "# def establish_mongo_connection(location, keyname, mongo_database, mongo_collection): \n",
    "#     \"\"\"\n",
    "#     connect to database. Requires a connection to server was established via terminal, e.g.\n",
    "#     $ ssh -fNL 27017:localhost:27017 tyler@stanfordmemorylab.com\n",
    "#     \"\"\"\n",
    "#     # load information from credentials\n",
    "#     access_info = json.load(open(location + keyname))\n",
    "#     # set up the 'tunnel' we'll be using to access the server\n",
    "#     mongo_tunnel = 'mongodb://' + access_info['user'] + ':' + access_info['pwd'] + '@127.0.0.1'\n",
    "#     # conect to the mongo client on the server\n",
    "#     connection = pymongo.MongoClient(mongo_tunnel)\n",
    "#     # connect to the database\n",
    "#     data_base = connection[mongo_database]\n",
    "#     # connect to the collection\n",
    "#     collection = data_base[mongo_collection]\n",
    "    \n",
    "#     return collection"
   ]
  },
  {
   "cell_type": "code",
   "execution_count": 28,
   "metadata": {},
   "outputs": [
    {
     "data": {
      "text/plain": [
       "'/Users/chrisiyer/_Current/thesis_folder/face_experiment/results/scripts/memory-related-bias-main'"
      ]
     },
     "execution_count": 28,
     "metadata": {},
     "output_type": "execute_result"
    }
   ],
   "source": [
    "os.getcwd()"
   ]
  },
  {
   "cell_type": "code",
   "execution_count": 29,
   "metadata": {},
   "outputs": [],
   "source": [
    "save_path = '/Users/chrisiyer/_Current/thesis_folder/face_experiment/results/data/main/'\n",
    "# credential location -- this a copy of the credentials folder on the server\n",
    "location = '../../../credentials/'\n",
    "# aws key name \n",
    "aws_rootkey = 'aws_keys.json'\n",
    "# mongo key name\n",
    "keyname = 'mongo_keys'"
   ]
  },
  {
   "cell_type": "code",
   "execution_count": 30,
   "metadata": {},
   "outputs": [],
   "source": [
    "access_info = json.load(open(location + keyname))\n",
    "# set up the 'tunnel' we'll be using to access the server\n",
    "mongo_tunnel = 'mongodb://' + access_info['user'] + ':' + access_info['pwd'] + '@127.0.0.1'\n",
    "# conect to the mongo client on the server\n",
    "connection = pymongo.MongoClient(mongo_tunnel)"
   ]
  },
  {
   "cell_type": "code",
   "execution_count": 31,
   "metadata": {},
   "outputs": [],
   "source": [
    "## name of mongo database to look through\n",
    "mongo_database = \"chris\"\n",
    "## name of mongo collection\n",
    "mongo_collection = \"main_task_2\" # NEW!\n",
    "## \n",
    "# load information from credentials\n",
    "access_info = json.load(open(location + keyname))\n",
    "# set up the 'tunnel' we'll be using to access the server\n",
    "mongo_tunnel = 'mongodb://' + access_info['user'] + ':' + access_info['pwd'] + '@127.0.0.1'\n",
    "# conect to the mongo client on the server\n",
    "connection = pymongo.MongoClient(mongo_tunnel)\n",
    "# connect to the database\n",
    "data_base = connection[mongo_database]\n",
    "# connect to the collection\n",
    "collection = data_base[mongo_collection]"
   ]
  },
  {
   "cell_type": "code",
   "execution_count": 43,
   "metadata": {
    "scrolled": true
   },
   "outputs": [
    {
     "name": "stdout",
     "output_type": "stream",
     "text": [
      "collection name main_task_2 has 15076 documents\n",
      "collection name main_task has 21806 documents\n",
      "collection name test has 9 documents\n",
      "collection name classification_task has 19 documents\n",
      "collection name face_experiment has 4354 documents\n"
     ]
    }
   ],
   "source": [
    "delete_collection_documents = 0\n",
    "for i_collection_name in data_base.list_collection_names(): \n",
    "    i_collection = data_base[i_collection_name]\n",
    "    print('collection name', i_collection_name, 'has %d documents'%len( [i for i in i_collection.find({})]))"
   ]
  },
  {
   "cell_type": "code",
   "execution_count": 46,
   "metadata": {},
   "outputs": [],
   "source": [
    "# takes a while to load everything from the server\n",
    "all_trials = [i for i in collection.find({})]\n",
    "df = pandas.DataFrame({})\n",
    "\n",
    "for i_trial in all_trials:\n",
    "    df = df.append( {i: i_trial[i] for i in i_trial}, ignore_index=True) "
   ]
  },
  {
   "cell_type": "code",
   "execution_count": 47,
   "metadata": {},
   "outputs": [
    {
     "data": {
      "text/plain": [
       "array(['pilot_sona_afc2', 'pilot_testing', 'prolific_afc',\n",
       "       'prolific_afc3'], dtype=object)"
      ]
     },
     "execution_count": 47,
     "metadata": {},
     "output_type": "execute_result"
    }
   ],
   "source": [
    "df.iteration.unique()"
   ]
  },
  {
   "cell_type": "code",
   "execution_count": 54,
   "metadata": {},
   "outputs": [],
   "source": [
    "iteration = 'prolific_afc3'\n",
    "save_df = df[df.iteration == iteration]"
   ]
  },
  {
   "cell_type": "code",
   "execution_count": 56,
   "metadata": {},
   "outputs": [],
   "source": [
    "save_data = 1 # CHANGE THIS TO TOGGLE DATA SAVING\n",
    "\n",
    "if save_data: \n",
    "    mongo_info = '%s_%s_%s_%s.csv'%(mongo_database, mongo_collection, iteration, datetime.today().strftime(\"%d_%m_%Y\"))\n",
    "    save_df.to_csv(save_path + 'taskdata_%s'%mongo_info)\n",
    "    \n",
    "#     summary_df.to_csv('summarydata_%s.csv'%mongo_info)\n",
    "#     trial_df.to_csv('trialdata_%s.csv'%mongo_info) "
   ]
  },
  {
   "cell_type": "markdown",
   "metadata": {},
   "source": [
    "---END OF SAVING DATA---\n",
    "Now, want to extract PID + bonuses for bonusing participants"
   ]
  },
  {
   "cell_type": "code",
   "execution_count": 67,
   "metadata": {},
   "outputs": [],
   "source": [
    "dem_file = 'prolific_afc3_white.csv'#iteration + '.csv' # CHANGE THIS\n",
    "df_dem = pandas.read_csv(save_path + 'demographics/' + dem_file)\n",
    "ids_awaiting = df_dem.loc[df_dem.status == 'AWAITING REVIEW'].participant_id.values\n",
    "df_awaiting = df.loc[(df.trial_type == 'summary') &(df.subject_id.isin(ids_awaiting)),\n",
    "                     ['subject_id', 'total_bonus']]"
   ]
  },
  {
   "cell_type": "code",
   "execution_count": 68,
   "metadata": {
    "scrolled": true
   },
   "outputs": [
    {
     "name": "stdout",
     "output_type": "stream",
     "text": [
      "6018360036a61b046a344369, 1.16\n",
      "6104271b0eca200c3a28011f, 0.39\n",
      "627f448165ed9095fd43cfd1, 1.04\n",
      "5eb2220339aaed38706d2ed5, 0.41\n",
      "5d58471ffe8768001a31d33a, 0.62\n",
      "61bb38a940db417c1a138cd1, 0.96\n",
      "6103a8f4f20ce4e0873a7b22, 0.41\n",
      "61602d371599d54a4e61545c, 0.01\n",
      "5dde8961a4aa26f2f73d785b, 0.63\n",
      "6202986aef1cb18a1337c2b1, 1.18\n",
      "5e641e41de78961a95ffc6f8, 1.14\n",
      "600b867e297f072364af7a99, 0.50\n",
      "5c7db851461e90001c7a06ce, 1.13\n",
      "61523eecd52ec29c4c08d938, 0.95\n",
      "628795edea38f8a3b2ee9e60, 0.93\n",
      "5fe3f539dd8cf10e7d545231, 0.46\n",
      "627b0d689d780840df214aee, 0.18\n",
      "60fdd466763872a6e5135b7c, 0.33\n",
      "5fa19ff29675d12de2935107, 0.75\n",
      "56ec151f388e1d000a5924d0, 0.22\n",
      "616c7777b6a2486957bafbf0, 0.63\n",
      "5fb9de27e62120924c5b2176, 0.52\n",
      "61108c68c7aa8101bf6ad5bf, 1.17\n",
      "5fabf9bfaa84e00ccd8961a2, 0.40\n",
      "604dff87be5115f1266d3963, 0.61\n",
      "5e35a96ecf931055fb891c54, 0.30\n",
      "615e0ebf1d8fec3d10018efa, 0.94\n",
      "5da49efa203c590013533d84, 0.56\n",
      "61501967e49a3d7e1977e4b4, 0.32\n",
      "559385f5fdf99b78e49c58e9, 0.78\n",
      "5f07a7464989193e97240278, 0.33\n",
      "610c736500a4b33398fef94f, 0.25\n",
      "5f4efbf90b8cc113d26921a4, 0.03\n",
      "5e2f95da81f6df558263a6e0, 1.04\n",
      "5be8dab5d153f500019ab320, 1.32\n",
      "59a4b7e0c9281e0001c1bc8f, 0.41\n",
      "5de8312c9a9da57b0d318bc4, 0.10\n",
      "\n"
     ]
    }
   ],
   "source": [
    "out = ''\n",
    "for i in range(len(df_awaiting)):\n",
    "    if (float(df_awaiting.iloc[i]['total_bonus']) > 0): \n",
    "        out += df_awaiting.iloc[i]['subject_id'] + ', ' + df_awaiting.iloc[i]['total_bonus'] + '\\n'\n",
    "\n",
    "# copy paste into prolific\n",
    "print(out)"
   ]
  },
  {
   "cell_type": "markdown",
   "metadata": {},
   "source": [
    "Now, we want to summarize performance at each step"
   ]
  },
  {
   "cell_type": "code",
   "execution_count": 34,
   "metadata": {
    "scrolled": false
   },
   "outputs": [
    {
     "ename": "SyntaxError",
     "evalue": "invalid syntax (<ipython-input-34-5b9ee35064bc>, line 3)",
     "output_type": "error",
     "traceback": [
      "\u001b[0;36m  File \u001b[0;32m\"<ipython-input-34-5b9ee35064bc>\"\u001b[0;36m, line \u001b[0;32m3\u001b[0m\n\u001b[0;31m    df_summary\u001b[0m\n\u001b[0m             ^\u001b[0m\n\u001b[0;31mSyntaxError\u001b[0m\u001b[0;31m:\u001b[0m invalid syntax\n"
     ]
    }
   ],
   "source": [
    "# just get desired iterations\n",
    "df_summary = df[(df.iteration == iteration) & (df.trial_type == 'summary')][\n",
    "    'subject_id', 'encoding_accuracy', 'encoding_avg_rt', \n",
    "                      'filler_accuracy', 'filler_avg_rt', 'retrieval_accuracy', \n",
    "                      'retrieval_avg_rt', 'total_bonus'\n",
    "    \n",
    "]\n",
    "df_summary = df.loc[[,\n",
    "                     []]\n",
    "df_summary"
   ]
  },
  {
   "cell_type": "code",
   "execution_count": 33,
   "metadata": {},
   "outputs": [
    {
     "data": {
      "text/plain": [
       "[100.0,\n",
       " 85.0,\n",
       " 75.0,\n",
       " 95.0,\n",
       " 95.0,\n",
       " 90.0,\n",
       " 100.0,\n",
       " 100.0,\n",
       " 85.0,\n",
       " 95.0,\n",
       " 100.0,\n",
       " 100.0,\n",
       " 90.0,\n",
       " 95.0,\n",
       " 90.0,\n",
       " 80.0,\n",
       " 90.0,\n",
       " 90.0,\n",
       " 95.0,\n",
       " 85.0,\n",
       " 80.0,\n",
       " 100.0,\n",
       " 95.0,\n",
       " 86.0,\n",
       " 80.0,\n",
       " 85.0,\n",
       " 95.0,\n",
       " 80.0,\n",
       " 90.0,\n",
       " 95.0,\n",
       " 95.0,\n",
       " 85.0,\n",
       " 100.0,\n",
       " 90.0,\n",
       " None,\n",
       " None,\n",
       " None,\n",
       " None,\n",
       " None,\n",
       " None,\n",
       " None,\n",
       " None,\n",
       " None,\n",
       " None,\n",
       " None,\n",
       " None,\n",
       " None,\n",
       " None,\n",
       " None,\n",
       " None,\n",
       " None,\n",
       " None,\n",
       " None,\n",
       " None,\n",
       " 95,\n",
       " 85,\n",
       " 95,\n",
       " 95,\n",
       " 90,\n",
       " 85,\n",
       " 95,\n",
       " 100,\n",
       " 75,\n",
       " 100,\n",
       " 95,\n",
       " 90,\n",
       " 95,\n",
       " 100,\n",
       " 95,\n",
       " 95,\n",
       " 100,\n",
       " 90,\n",
       " 86,\n",
       " 91,\n",
       " 80,\n",
       " 86,\n",
       " 100,\n",
       " 95,\n",
       " 95,\n",
       " 85,\n",
       " 62,\n",
       " 90,\n",
       " 100,\n",
       " 90,\n",
       " 95,\n",
       " 100,\n",
       " 95,\n",
       " 100,\n",
       " 100,\n",
       " 95,\n",
       " 95,\n",
       " 80,\n",
       " 95,\n",
       " 100,\n",
       " 95,\n",
       " 95,\n",
       " 91,\n",
       " 87,\n",
       " 85,\n",
       " 95,\n",
       " 68,\n",
       " 86,\n",
       " 90,\n",
       " 100,\n",
       " 100,\n",
       " 100,\n",
       " 65,\n",
       " 100,\n",
       " 81,\n",
       " 95,\n",
       " 100,\n",
       " 86,\n",
       " 90,\n",
       " 90,\n",
       " 100,\n",
       " 90,\n",
       " 95,\n",
       " 95,\n",
       " 90,\n",
       " 80,\n",
       " 81,\n",
       " 90,\n",
       " 60,\n",
       " 90,\n",
       " 90,\n",
       " 85,\n",
       " 95,\n",
       " 80,\n",
       " 95,\n",
       " 85,\n",
       " 100,\n",
       " 90,\n",
       " 100,\n",
       " 95,\n",
       " 100,\n",
       " 95,\n",
       " 81,\n",
       " 80,\n",
       " 86,\n",
       " 82,\n",
       " 86,\n",
       " 100,\n",
       " 100,\n",
       " 95,\n",
       " 90,\n",
       " 86,\n",
       " 95,\n",
       " 80,\n",
       " 95,\n",
       " 100,\n",
       " 90,\n",
       " 100,\n",
       " 85,\n",
       " 70,\n",
       " 90,\n",
       " 100,\n",
       " 95,\n",
       " 95,\n",
       " 95,\n",
       " 71,\n",
       " 83,\n",
       " 100,\n",
       " 85,\n",
       " 95,\n",
       " 90,\n",
       " 95]"
      ]
     },
     "execution_count": 33,
     "metadata": {},
     "output_type": "execute_result"
    }
   ],
   "source": [
    "[i for i in df_summary.filler_accuracy]"
   ]
  },
  {
   "cell_type": "markdown",
   "metadata": {},
   "source": [
    "Plot accuracies for the 3 tasks"
   ]
  },
  {
   "cell_type": "code",
   "execution_count": 28,
   "metadata": {},
   "outputs": [
    {
     "ename": "TypeError",
     "evalue": "unsupported operand type(s) for +: 'float' and 'NoneType'",
     "output_type": "error",
     "traceback": [
      "\u001b[0;31m---------------------------------------------------------------------------\u001b[0m",
      "\u001b[0;31mTypeError\u001b[0m                                 Traceback (most recent call last)",
      "\u001b[0;32m<ipython-input-28-f663e46d4055>\u001b[0m in \u001b[0;36m<module>\u001b[0;34m\u001b[0m\n\u001b[1;32m      9\u001b[0m \u001b[0max1\u001b[0m\u001b[0;34m.\u001b[0m\u001b[0mset_ylim\u001b[0m\u001b[0;34m(\u001b[0m\u001b[0mlims\u001b[0m\u001b[0;34m)\u001b[0m\u001b[0;34m\u001b[0m\u001b[0;34m\u001b[0m\u001b[0m\n\u001b[1;32m     10\u001b[0m \u001b[0;34m\u001b[0m\u001b[0m\n\u001b[0;32m---> 11\u001b[0;31m \u001b[0max2\u001b[0m\u001b[0;34m.\u001b[0m\u001b[0mboxplot\u001b[0m\u001b[0;34m(\u001b[0m\u001b[0mdf_summary\u001b[0m\u001b[0;34m.\u001b[0m\u001b[0mfiller_accuracy\u001b[0m\u001b[0;34m)\u001b[0m\u001b[0;34m\u001b[0m\u001b[0;34m\u001b[0m\u001b[0m\n\u001b[0m\u001b[1;32m     12\u001b[0m \u001b[0max2\u001b[0m\u001b[0;34m.\u001b[0m\u001b[0mset_xlabel\u001b[0m\u001b[0;34m(\u001b[0m\u001b[0;34m'Filler'\u001b[0m\u001b[0;34m)\u001b[0m\u001b[0;34m\u001b[0m\u001b[0;34m\u001b[0m\u001b[0m\n\u001b[1;32m     13\u001b[0m \u001b[0max2\u001b[0m\u001b[0;34m.\u001b[0m\u001b[0mset_ylim\u001b[0m\u001b[0;34m(\u001b[0m\u001b[0mlims\u001b[0m\u001b[0;34m)\u001b[0m\u001b[0;34m\u001b[0m\u001b[0;34m\u001b[0m\u001b[0m\n",
      "\u001b[0;32m/Applications/anaconda3/envs/memory_bias/lib/python3.7/site-packages/matplotlib/cbook/deprecation.py\u001b[0m in \u001b[0;36mwrapper\u001b[0;34m(*args, **kwargs)\u001b[0m\n\u001b[1;32m    305\u001b[0m                 f\"for the old name will be dropped %(removal)s.\")\n\u001b[1;32m    306\u001b[0m             \u001b[0mkwargs\u001b[0m\u001b[0;34m[\u001b[0m\u001b[0mnew\u001b[0m\u001b[0;34m]\u001b[0m \u001b[0;34m=\u001b[0m \u001b[0mkwargs\u001b[0m\u001b[0;34m.\u001b[0m\u001b[0mpop\u001b[0m\u001b[0;34m(\u001b[0m\u001b[0mold\u001b[0m\u001b[0;34m)\u001b[0m\u001b[0;34m\u001b[0m\u001b[0;34m\u001b[0m\u001b[0m\n\u001b[0;32m--> 307\u001b[0;31m         \u001b[0;32mreturn\u001b[0m \u001b[0mfunc\u001b[0m\u001b[0;34m(\u001b[0m\u001b[0;34m*\u001b[0m\u001b[0margs\u001b[0m\u001b[0;34m,\u001b[0m \u001b[0;34m**\u001b[0m\u001b[0mkwargs\u001b[0m\u001b[0;34m)\u001b[0m\u001b[0;34m\u001b[0m\u001b[0;34m\u001b[0m\u001b[0m\n\u001b[0m\u001b[1;32m    308\u001b[0m \u001b[0;34m\u001b[0m\u001b[0m\n\u001b[1;32m    309\u001b[0m     \u001b[0;31m# wrapper() must keep the same documented signature as func(): if we\u001b[0m\u001b[0;34m\u001b[0m\u001b[0;34m\u001b[0m\u001b[0;34m\u001b[0m\u001b[0m\n",
      "\u001b[0;32m/Applications/anaconda3/envs/memory_bias/lib/python3.7/site-packages/matplotlib/__init__.py\u001b[0m in \u001b[0;36minner\u001b[0;34m(ax, data, *args, **kwargs)\u001b[0m\n\u001b[1;32m   1599\u001b[0m     \u001b[0;32mdef\u001b[0m \u001b[0minner\u001b[0m\u001b[0;34m(\u001b[0m\u001b[0max\u001b[0m\u001b[0;34m,\u001b[0m \u001b[0;34m*\u001b[0m\u001b[0margs\u001b[0m\u001b[0;34m,\u001b[0m \u001b[0mdata\u001b[0m\u001b[0;34m=\u001b[0m\u001b[0;32mNone\u001b[0m\u001b[0;34m,\u001b[0m \u001b[0;34m**\u001b[0m\u001b[0mkwargs\u001b[0m\u001b[0;34m)\u001b[0m\u001b[0;34m:\u001b[0m\u001b[0;34m\u001b[0m\u001b[0;34m\u001b[0m\u001b[0m\n\u001b[1;32m   1600\u001b[0m         \u001b[0;32mif\u001b[0m \u001b[0mdata\u001b[0m \u001b[0;32mis\u001b[0m \u001b[0;32mNone\u001b[0m\u001b[0;34m:\u001b[0m\u001b[0;34m\u001b[0m\u001b[0;34m\u001b[0m\u001b[0m\n\u001b[0;32m-> 1601\u001b[0;31m             \u001b[0;32mreturn\u001b[0m \u001b[0mfunc\u001b[0m\u001b[0;34m(\u001b[0m\u001b[0max\u001b[0m\u001b[0;34m,\u001b[0m \u001b[0;34m*\u001b[0m\u001b[0mmap\u001b[0m\u001b[0;34m(\u001b[0m\u001b[0msanitize_sequence\u001b[0m\u001b[0;34m,\u001b[0m \u001b[0margs\u001b[0m\u001b[0;34m)\u001b[0m\u001b[0;34m,\u001b[0m \u001b[0;34m**\u001b[0m\u001b[0mkwargs\u001b[0m\u001b[0;34m)\u001b[0m\u001b[0;34m\u001b[0m\u001b[0;34m\u001b[0m\u001b[0m\n\u001b[0m\u001b[1;32m   1602\u001b[0m \u001b[0;34m\u001b[0m\u001b[0m\n\u001b[1;32m   1603\u001b[0m         \u001b[0mbound\u001b[0m \u001b[0;34m=\u001b[0m \u001b[0mnew_sig\u001b[0m\u001b[0;34m.\u001b[0m\u001b[0mbind\u001b[0m\u001b[0;34m(\u001b[0m\u001b[0max\u001b[0m\u001b[0;34m,\u001b[0m \u001b[0;34m*\u001b[0m\u001b[0margs\u001b[0m\u001b[0;34m,\u001b[0m \u001b[0;34m**\u001b[0m\u001b[0mkwargs\u001b[0m\u001b[0;34m)\u001b[0m\u001b[0;34m\u001b[0m\u001b[0;34m\u001b[0m\u001b[0m\n",
      "\u001b[0;32m/Applications/anaconda3/envs/memory_bias/lib/python3.7/site-packages/matplotlib/axes/_axes.py\u001b[0m in \u001b[0;36mboxplot\u001b[0;34m(self, x, notch, sym, vert, whis, positions, widths, patch_artist, bootstrap, usermedians, conf_intervals, meanline, showmeans, showcaps, showbox, showfliers, boxprops, labels, flierprops, medianprops, meanprops, capprops, whiskerprops, manage_ticks, autorange, zorder)\u001b[0m\n\u001b[1;32m   3668\u001b[0m \u001b[0;34m\u001b[0m\u001b[0m\n\u001b[1;32m   3669\u001b[0m         bxpstats = cbook.boxplot_stats(x, whis=whis, bootstrap=bootstrap,\n\u001b[0;32m-> 3670\u001b[0;31m                                        labels=labels, autorange=autorange)\n\u001b[0m\u001b[1;32m   3671\u001b[0m         \u001b[0;32mif\u001b[0m \u001b[0mnotch\u001b[0m \u001b[0;32mis\u001b[0m \u001b[0;32mNone\u001b[0m\u001b[0;34m:\u001b[0m\u001b[0;34m\u001b[0m\u001b[0;34m\u001b[0m\u001b[0m\n\u001b[1;32m   3672\u001b[0m             \u001b[0mnotch\u001b[0m \u001b[0;34m=\u001b[0m \u001b[0mrcParams\u001b[0m\u001b[0;34m[\u001b[0m\u001b[0;34m'boxplot.notch'\u001b[0m\u001b[0;34m]\u001b[0m\u001b[0;34m\u001b[0m\u001b[0;34m\u001b[0m\u001b[0m\n",
      "\u001b[0;32m/Applications/anaconda3/envs/memory_bias/lib/python3.7/site-packages/matplotlib/cbook/__init__.py\u001b[0m in \u001b[0;36mboxplot_stats\u001b[0;34m(X, whis, bootstrap, labels, autorange)\u001b[0m\n\u001b[1;32m   1283\u001b[0m \u001b[0;34m\u001b[0m\u001b[0m\n\u001b[1;32m   1284\u001b[0m         \u001b[0;31m# arithmetic mean\u001b[0m\u001b[0;34m\u001b[0m\u001b[0;34m\u001b[0m\u001b[0;34m\u001b[0m\u001b[0m\n\u001b[0;32m-> 1285\u001b[0;31m         \u001b[0mstats\u001b[0m\u001b[0;34m[\u001b[0m\u001b[0;34m'mean'\u001b[0m\u001b[0;34m]\u001b[0m \u001b[0;34m=\u001b[0m \u001b[0mnp\u001b[0m\u001b[0;34m.\u001b[0m\u001b[0mmean\u001b[0m\u001b[0;34m(\u001b[0m\u001b[0mx\u001b[0m\u001b[0;34m)\u001b[0m\u001b[0;34m\u001b[0m\u001b[0;34m\u001b[0m\u001b[0m\n\u001b[0m\u001b[1;32m   1286\u001b[0m \u001b[0;34m\u001b[0m\u001b[0m\n\u001b[1;32m   1287\u001b[0m         \u001b[0;31m# medians and quartiles\u001b[0m\u001b[0;34m\u001b[0m\u001b[0;34m\u001b[0m\u001b[0;34m\u001b[0m\u001b[0m\n",
      "\u001b[0;32m<__array_function__ internals>\u001b[0m in \u001b[0;36mmean\u001b[0;34m(*args, **kwargs)\u001b[0m\n",
      "\u001b[0;32m/Applications/anaconda3/envs/memory_bias/lib/python3.7/site-packages/numpy/core/fromnumeric.py\u001b[0m in \u001b[0;36mmean\u001b[0;34m(a, axis, dtype, out, keepdims)\u001b[0m\n\u001b[1;32m   3255\u001b[0m \u001b[0;34m\u001b[0m\u001b[0m\n\u001b[1;32m   3256\u001b[0m     return _methods._mean(a, axis=axis, dtype=dtype,\n\u001b[0;32m-> 3257\u001b[0;31m                           out=out, **kwargs)\n\u001b[0m\u001b[1;32m   3258\u001b[0m \u001b[0;34m\u001b[0m\u001b[0m\n\u001b[1;32m   3259\u001b[0m \u001b[0;34m\u001b[0m\u001b[0m\n",
      "\u001b[0;32m/Applications/anaconda3/envs/memory_bias/lib/python3.7/site-packages/numpy/core/_methods.py\u001b[0m in \u001b[0;36m_mean\u001b[0;34m(a, axis, dtype, out, keepdims)\u001b[0m\n\u001b[1;32m    149\u001b[0m             \u001b[0mis_float16_result\u001b[0m \u001b[0;34m=\u001b[0m \u001b[0;32mTrue\u001b[0m\u001b[0;34m\u001b[0m\u001b[0;34m\u001b[0m\u001b[0m\n\u001b[1;32m    150\u001b[0m \u001b[0;34m\u001b[0m\u001b[0m\n\u001b[0;32m--> 151\u001b[0;31m     \u001b[0mret\u001b[0m \u001b[0;34m=\u001b[0m \u001b[0mumr_sum\u001b[0m\u001b[0;34m(\u001b[0m\u001b[0marr\u001b[0m\u001b[0;34m,\u001b[0m \u001b[0maxis\u001b[0m\u001b[0;34m,\u001b[0m \u001b[0mdtype\u001b[0m\u001b[0;34m,\u001b[0m \u001b[0mout\u001b[0m\u001b[0;34m,\u001b[0m \u001b[0mkeepdims\u001b[0m\u001b[0;34m)\u001b[0m\u001b[0;34m\u001b[0m\u001b[0;34m\u001b[0m\u001b[0m\n\u001b[0m\u001b[1;32m    152\u001b[0m     \u001b[0;32mif\u001b[0m \u001b[0misinstance\u001b[0m\u001b[0;34m(\u001b[0m\u001b[0mret\u001b[0m\u001b[0;34m,\u001b[0m \u001b[0mmu\u001b[0m\u001b[0;34m.\u001b[0m\u001b[0mndarray\u001b[0m\u001b[0;34m)\u001b[0m\u001b[0;34m:\u001b[0m\u001b[0;34m\u001b[0m\u001b[0;34m\u001b[0m\u001b[0m\n\u001b[1;32m    153\u001b[0m         ret = um.true_divide(\n",
      "\u001b[0;31mTypeError\u001b[0m: unsupported operand type(s) for +: 'float' and 'NoneType'"
     ]
    },
    {
     "data": {
      "image/png": "[encoded data removed]",
      "text/plain": [
       "<Figure size 576x504 with 3 Axes>"
      ]
     },
     "metadata": {
      "needs_background": "light"
     },
     "output_type": "display_data"
    }
   ],
   "source": [
    "lims = (40,100)\n",
    "\n",
    "# ENCODING\n",
    "fig, (ax1, ax2, ax3) = plt.subplots(1, 3, figsize=(8,7))\n",
    "fig.suptitle('Task performance')\n",
    "ax1.boxplot(df_summary.encoding_accuracy)\n",
    "ax1.set_xlabel('Encoding')\n",
    "ax1.set_ylabel('Accuracy (%)')\n",
    "#ax1.set_ylim(lims)\n",
    "\n",
    "ax2.boxplot(df_summary.filler_accuracy)\n",
    "ax2.set_xlabel('Filler')\n",
    "#ax2.set_ylim(lims)\n",
    "\n",
    "ax3.boxplot(df_summary.retrieval_accuracy)\n",
    "ax3.set_xlabel('Retrieval')\n",
    "#ax3.set_ylim(lims)\n",
    "\n",
    "plt.show()"
   ]
  },
  {
   "cell_type": "code",
   "execution_count": null,
   "metadata": {},
   "outputs": [],
   "source": []
  }
 ],
 "metadata": {
  "kernelspec": {
   "display_name": "Python 3",
   "language": "python",
   "name": "python3"
  },
  "language_info": {
   "codemirror_mode": {
    "name": "ipython",
    "version": 3
   },
   "file_extension": ".py",
   "mimetype": "text/x-python",
   "name": "python",
   "nbconvert_exporter": "python",
   "pygments_lexer": "ipython3",
   "version": "3.7.5"
  }
 },
 "nbformat": 4,
 "nbformat_minor": 2
}
