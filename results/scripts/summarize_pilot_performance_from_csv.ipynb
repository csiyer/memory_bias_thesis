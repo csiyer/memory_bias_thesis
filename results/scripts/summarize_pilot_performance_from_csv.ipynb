{
 "cells": [
  {
   "cell_type": "code",
   "execution_count": 1,
   "id": "a4958276",
   "metadata": {},
   "outputs": [],
   "source": [
    "import numpy as np\n",
    "import pandas as pd\n",
    "from datetime import datetime \n",
    "import matplotlib.pyplot as plt\n",
    "import json\n",
    "from scipy.stats import norm"
   ]
  },
  {
   "cell_type": "code",
   "execution_count": 4,
   "id": "291775fc",
   "metadata": {},
   "outputs": [],
   "source": [
    "save_path = '/Users/chrisiyer/_Current/thesis_folder/face_experiment/results/data/main/unused pilots/'\n",
    "\n",
    "file = 'taskdata_chris_main_task_pilot_prolific_test_typicals_25_04_2022.csv'\n",
    "df = pd.read_csv(save_path + file)"
   ]
  },
  {
   "cell_type": "code",
   "execution_count": 5,
   "id": "ea9f79f2",
   "metadata": {
    "scrolled": true
   },
   "outputs": [
    {
     "name": "stdout",
     "output_type": "stream",
     "text": [
      "IDENTITIES EXCLUDED:\n",
      " []\n"
     ]
    }
   ],
   "source": [
    "# correcting silly errors in df_pro\n",
    "\n",
    "df_pro = df[df.iteration.str.contains('prolific')]\n",
    "exclude = []\n",
    "for i in df_pro.subject_id.unique():\n",
    "    curr = df_pro[(df_pro.subject_id == i) & (df_pro.trial_type == 'summary')]\n",
    "    if (len(curr) < 1):\n",
    "        exclude.append(i)\n",
    "\n",
    "df_pro = df_pro[ [i not in exclude for i in df_pro.subject_id] ]\n",
    "\n",
    "print(\"IDENTITIES EXCLUDED:\\n\",exclude)"
   ]
  },
  {
   "cell_type": "code",
   "execution_count": 8,
   "id": "9a712368",
   "metadata": {},
   "outputs": [],
   "source": [
    "# correcting more errors\n",
    "with open('/Users/chrisiyer/_Current/thesis_folder/face_experiment/stimuli/metadata_all_pairs_mb_altered.json', 'r') as myfile:\n",
    "    data=myfile.read()\n",
    "meta = json.loads(data)"
   ]
  },
  {
   "cell_type": "code",
   "execution_count": 9,
   "id": "d0fdac0b",
   "metadata": {
    "scrolled": false
   },
   "outputs": [
    {
     "name": "stderr",
     "output_type": "stream",
     "text": [
      "/Applications/anaconda3/lib/python3.8/site-packages/pandas/core/indexing.py:1637: SettingWithCopyWarning: \n",
      "A value is trying to be set on a copy of a slice from a DataFrame\n",
      "\n",
      "See the caveats in the documentation: https://pandas.pydata.org/pandas-docs/stable/user_guide/indexing.html#returning-a-view-versus-a-copy\n",
      "  self._setitem_single_block(indexer, value, name)\n"
     ]
    }
   ],
   "source": [
    "for i in range(len(df_pro)):\n",
    "    if df_pro.iloc[i]['retrieval_condition'] == 'new':\n",
    "        iden = str(int(df_pro.iloc[i]['identity'])).zfill(3)\n",
    "        df_pro['race'].iloc[i] = meta[iden]['race_common']"
   ]
  },
  {
   "cell_type": "code",
   "execution_count": 10,
   "id": "3818f568",
   "metadata": {},
   "outputs": [
    {
     "data": {
      "text/plain": [
       "67      black\n",
       "68      black\n",
       "72      black\n",
       "73      black\n",
       "74      black\n",
       "        ...  \n",
       "1122    white\n",
       "1123    white\n",
       "1126    black\n",
       "1128    black\n",
       "1135    black\n",
       "Name: race, Length: 263, dtype: object"
      ]
     },
     "execution_count": 10,
     "metadata": {},
     "output_type": "execute_result"
    }
   ],
   "source": [
    "df_pro[df_pro.retrieval_condition=='new']['race']"
   ]
  },
  {
   "cell_type": "code",
   "execution_count": 11,
   "id": "7327d662",
   "metadata": {
    "scrolled": true
   },
   "outputs": [
    {
     "data": {
      "text/html": [
       "<div>\n",
       "<style scoped>\n",
       "    .dataframe tbody tr th:only-of-type {\n",
       "        vertical-align: middle;\n",
       "    }\n",
       "\n",
       "    .dataframe tbody tr th {\n",
       "        vertical-align: top;\n",
       "    }\n",
       "\n",
       "    .dataframe thead th {\n",
       "        text-align: right;\n",
       "    }\n",
       "</style>\n",
       "<table border=\"1\" class=\"dataframe\">\n",
       "  <thead>\n",
       "    <tr style=\"text-align: right;\">\n",
       "      <th></th>\n",
       "      <th>subject_id</th>\n",
       "      <th>encoding_accuracy</th>\n",
       "      <th>encoding_avg_rt</th>\n",
       "      <th>filler_accuracy</th>\n",
       "      <th>filler_avg_rt</th>\n",
       "      <th>retrieval_accuracy</th>\n",
       "      <th>retrieval_avg_rt</th>\n",
       "      <th>total_bonus</th>\n",
       "    </tr>\n",
       "  </thead>\n",
       "  <tbody>\n",
       "    <tr>\n",
       "      <th>139</th>\n",
       "      <td>6266d12bc803262aae0e8de2</td>\n",
       "      <td>83.0</td>\n",
       "      <td>4.11</td>\n",
       "      <td>90.0</td>\n",
       "      <td>3.55</td>\n",
       "      <td>52.0</td>\n",
       "      <td>5.33</td>\n",
       "      <td>0.00</td>\n",
       "    </tr>\n",
       "    <tr>\n",
       "      <th>383</th>\n",
       "      <td>5d734121d169f0001706ef8f</td>\n",
       "      <td>90.0</td>\n",
       "      <td>4.04</td>\n",
       "      <td>86.0</td>\n",
       "      <td>3.26</td>\n",
       "      <td>51.0</td>\n",
       "      <td>4.05</td>\n",
       "      <td>0.00</td>\n",
       "    </tr>\n",
       "    <tr>\n",
       "      <th>650</th>\n",
       "      <td>60a0586fbf36f3f1f4ba7970</td>\n",
       "      <td>70.0</td>\n",
       "      <td>5.08</td>\n",
       "      <td>91.0</td>\n",
       "      <td>2.75</td>\n",
       "      <td>65.0</td>\n",
       "      <td>4.97</td>\n",
       "      <td>0.00</td>\n",
       "    </tr>\n",
       "    <tr>\n",
       "      <th>693</th>\n",
       "      <td>5f98187948060d064c52948b</td>\n",
       "      <td>95.0</td>\n",
       "      <td>2.68</td>\n",
       "      <td>80.0</td>\n",
       "      <td>3.06</td>\n",
       "      <td>65.0</td>\n",
       "      <td>2.78</td>\n",
       "      <td>0.57</td>\n",
       "    </tr>\n",
       "    <tr>\n",
       "      <th>959</th>\n",
       "      <td>5df3dcdd9b92b12b6db3a4e5</td>\n",
       "      <td>73.0</td>\n",
       "      <td>3.63</td>\n",
       "      <td>86.0</td>\n",
       "      <td>2.73</td>\n",
       "      <td>57.0</td>\n",
       "      <td>2.30</td>\n",
       "      <td>0.00</td>\n",
       "    </tr>\n",
       "    <tr>\n",
       "      <th>965</th>\n",
       "      <td>5ac560359534ba0001c74715</td>\n",
       "      <td>65.0</td>\n",
       "      <td>2.77</td>\n",
       "      <td>100.0</td>\n",
       "      <td>2.27</td>\n",
       "      <td>58.0</td>\n",
       "      <td>2.78</td>\n",
       "      <td>0.00</td>\n",
       "    </tr>\n",
       "    <tr>\n",
       "      <th>989</th>\n",
       "      <td>5e6bc8dd966aa3000c8b2205</td>\n",
       "      <td>73.0</td>\n",
       "      <td>1.96</td>\n",
       "      <td>95.0</td>\n",
       "      <td>1.68</td>\n",
       "      <td>59.0</td>\n",
       "      <td>1.98</td>\n",
       "      <td>0.00</td>\n",
       "    </tr>\n",
       "    <tr>\n",
       "      <th>1136</th>\n",
       "      <td>595bee9282be5500017ad683</td>\n",
       "      <td>68.0</td>\n",
       "      <td>2.80</td>\n",
       "      <td>95.0</td>\n",
       "      <td>2.60</td>\n",
       "      <td>52.0</td>\n",
       "      <td>3.92</td>\n",
       "      <td>0.00</td>\n",
       "    </tr>\n",
       "  </tbody>\n",
       "</table>\n",
       "</div>"
      ],
      "text/plain": [
       "                    subject_id  encoding_accuracy  encoding_avg_rt  \\\n",
       "139   6266d12bc803262aae0e8de2               83.0             4.11   \n",
       "383   5d734121d169f0001706ef8f               90.0             4.04   \n",
       "650   60a0586fbf36f3f1f4ba7970               70.0             5.08   \n",
       "693   5f98187948060d064c52948b               95.0             2.68   \n",
       "959   5df3dcdd9b92b12b6db3a4e5               73.0             3.63   \n",
       "965   5ac560359534ba0001c74715               65.0             2.77   \n",
       "989   5e6bc8dd966aa3000c8b2205               73.0             1.96   \n",
       "1136  595bee9282be5500017ad683               68.0             2.80   \n",
       "\n",
       "      filler_accuracy  filler_avg_rt  retrieval_accuracy  retrieval_avg_rt  \\\n",
       "139              90.0           3.55                52.0              5.33   \n",
       "383              86.0           3.26                51.0              4.05   \n",
       "650              91.0           2.75                65.0              4.97   \n",
       "693              80.0           3.06                65.0              2.78   \n",
       "959              86.0           2.73                57.0              2.30   \n",
       "965             100.0           2.27                58.0              2.78   \n",
       "989              95.0           1.68                59.0              1.98   \n",
       "1136             95.0           2.60                52.0              3.92   \n",
       "\n",
       "      total_bonus  \n",
       "139          0.00  \n",
       "383          0.00  \n",
       "650          0.00  \n",
       "693          0.57  \n",
       "959          0.00  \n",
       "965          0.00  \n",
       "989          0.00  \n",
       "1136         0.00  "
      ]
     },
     "execution_count": 11,
     "metadata": {},
     "output_type": "execute_result"
    }
   ],
   "source": [
    "# just get desired iterations\n",
    "df_summary = df.loc[(df.iteration.str.contains('prolific')) & (df.trial_type == 'summary'),['subject_id', 'encoding_accuracy', 'encoding_avg_rt', 'filler_accuracy', 'filler_avg_rt', 'retrieval_accuracy', 'retrieval_avg_rt', 'total_bonus']]\n",
    "df_summary"
   ]
  },
  {
   "cell_type": "code",
   "execution_count": 12,
   "id": "4dfce83e",
   "metadata": {
    "scrolled": true
   },
   "outputs": [
    {
     "data": {
      "image/png": "[encoded data removed]",
      "text/plain": [
       "<Figure size 576x504 with 3 Axes>"
      ]
     },
     "metadata": {
      "needs_background": "light"
     },
     "output_type": "display_data"
    }
   ],
   "source": [
    "lims = (40,100)\n",
    "\n",
    "# ENCODING\n",
    "fig, (ax1, ax2, ax3) = plt.subplots(1, 3, figsize=(8,7))\n",
    "fig.suptitle('Task performance')\n",
    "ax1.boxplot(df_summary.encoding_accuracy)\n",
    "ax1.set_xlabel('Encoding')\n",
    "ax1.set_ylabel('Accuracy (%)')\n",
    "ax1.set_ylim(lims)\n",
    "\n",
    "ax2.boxplot(df_summary.filler_accuracy)\n",
    "ax2.set_xlabel('Filler')\n",
    "ax2.set_ylim(lims)\n",
    "\n",
    "ax3.boxplot(df_summary.retrieval_accuracy)\n",
    "ax3.set_xlabel('Retrieval')\n",
    "ax3.set_ylim(lims)\n",
    "\n",
    "plt.show()"
   ]
  },
  {
   "cell_type": "code",
   "execution_count": 10,
   "id": "1d9c8d2a",
   "metadata": {
    "scrolled": true
   },
   "outputs": [],
   "source": [
    "df_pro['tilted'] = df_pro.tilt_difference != 0 "
   ]
  },
  {
   "cell_type": "code",
   "execution_count": 25,
   "id": "45dabbfa",
   "metadata": {
    "scrolled": false
   },
   "outputs": [
    {
     "name": "stdout",
     "output_type": "stream",
     "text": [
      "222\n",
      "106\n",
      "118\n"
     ]
    },
    {
     "data": {
      "text/plain": [
       "0.5022421524663677"
      ]
     },
     "execution_count": 25,
     "metadata": {},
     "output_type": "execute_result"
    }
   ],
   "source": [
    "print(len(df_pro[df_pro.tilt_difference ==0 ]))\n",
    "print(len(df_pro[df_pro.tilt_difference ==50 ]))\n",
    "print(len(df_pro[df_pro.tilt_difference ==-50 ]))\n",
    "np.mean( df_pro['tilted'][df_pro['retrieval_condition'] == 'old'].values )"
   ]
  },
  {
   "cell_type": "code",
   "execution_count": 24,
   "id": "e8ba9435",
   "metadata": {},
   "outputs": [
    {
     "data": {
      "image/png": "[encoded data removed]",
      "text/plain": [
       "<Figure size 360x360 with 1 Axes>"
      ]
     },
     "metadata": {
      "needs_background": "light"
     },
     "output_type": "display_data"
    }
   ],
   "source": [
    "old_trials = df_pro[df_pro.retrieval_condition == 'old'] \n",
    "\n",
    "black_accuracy = [] \n",
    "white_accuracy = [] \n",
    "\n",
    "for i_subject in old_trials.subject_id.unique(): \n",
    "    \n",
    "    subject_data = old_trials[old_trials.subject_id==i_subject]\n",
    "    \n",
    "    i_data = subject_data.groupby('race', as_index=False).mean()[['correct', 'rt']]\n",
    "    \n",
    "    black_accuracy.append(  i_data['correct'][0] ) \n",
    "    white_accuracy.append( i_data['correct'][1] )\n",
    "\n",
    "plt.figure(figsize=[5,5])\n",
    "\n",
    "plt.scatter(x=black_accuracy,y=white_accuracy)\n",
    "plt.plot([0, 1], [0, 1], linestyle=':', color='grey', alpha=.4)\n",
    "plt.plot([0, 1], [.5, .5], linestyle=':', color='grey', alpha=.4)\n",
    "plt.plot([.5, .5], [0, 1], linestyle=':', color='grey', alpha=.4)\n",
    "plt.xlabel('accuracy on black faces')\n",
    "plt.ylabel('accuracy on white faces')\n",
    "plt.title(\"retrieval comparing accuracy across black and white faces\", y=1.05); "
   ]
  },
  {
   "cell_type": "code",
   "execution_count": 13,
   "id": "55d6b4c8",
   "metadata": {},
   "outputs": [],
   "source": [
    "tmp = df_pro[df_pro.retrieval_condition == 'old'].groupby(\n",
    "    [ 'subject_id', 'race', 'tilt_difference'], as_index=False).mean()"
   ]
  },
  {
   "cell_type": "code",
   "execution_count": 14,
   "id": "18a0db60",
   "metadata": {},
   "outputs": [
    {
     "name": "stdout",
     "output_type": "stream",
     "text": [
      "True lens 22 22\n",
      "False lens 11 11\n"
     ]
    },
    {
     "data": {
      "image/png": "[encoded data removed]",
      "text/plain": [
       "<Figure size 360x360 with 1 Axes>"
      ]
     },
     "metadata": {
      "needs_background": "light"
     },
     "output_type": "display_data"
    }
   ],
   "source": [
    "plt.figure(figsize=[5,5])\n",
    "\n",
    "for i_tilt in [True, False]: \n",
    "    \n",
    "    itilt = tmp[abs(tmp.tilted).values == i_tilt]\n",
    "    \n",
    "    black_accuracy = [itilt.iloc[i]['correct'] for i in range(len(itilt)) if itilt.iloc[i].race=='black']\n",
    "    white_accuracy = [itilt.iloc[i]['correct'] for i in range(len(itilt)) if itilt.iloc[i].race=='white']\n",
    "    \n",
    "    print( i_tilt, 'lens', len(black_accuracy), len(white_accuracy ))\n",
    "    \n",
    "    plt.scatter(x=black_accuracy, y=white_accuracy, label=i_tilt, alpha=.4)\n",
    "\n",
    "plt.plot([0, 1], [0, 1], linestyle=':', color='grey', alpha=.4)\n",
    "plt.xlabel('accuracy on black faces')\n",
    "plt.ylabel('accuracy on white faces')\n",
    "plt.title(\"comparing accuracy across black and white faces\", y=1.05); \n",
    "plt.legend(title='tilt magnitude') ; "
   ]
  },
  {
   "cell_type": "code",
   "execution_count": 15,
   "id": "193dce2c",
   "metadata": {},
   "outputs": [
    {
     "data": {
      "text/plain": [
       "<matplotlib.axes._subplots.AxesSubplot at 0x7f8b11caa250>"
      ]
     },
     "execution_count": 15,
     "metadata": {},
     "output_type": "execute_result"
    },
    {
     "data": {
      "image/png": "[encoded data removed]",
      "text/plain": [
       "<Figure size 432x288 with 1 Axes>"
      ]
     },
     "metadata": {
      "needs_background": "light"
     },
     "output_type": "display_data"
    }
   ],
   "source": [
    "df_pro[df_pro.retrieval_condition == 'old'].groupby(\n",
    "    ['subject_id', 'tilt_difference']).mean()['correct'].unstack().plot()"
   ]
  },
  {
   "cell_type": "code",
   "execution_count": 16,
   "id": "32f84523",
   "metadata": {},
   "outputs": [],
   "source": [
    "# encoding accuracy race delta - encoding rt race delta\n",
    "# then relate to filler performance\n",
    "# then relate to retrieval performance"
   ]
  },
  {
   "cell_type": "code",
   "execution_count": 27,
   "id": "a15ca88b",
   "metadata": {
    "scrolled": true
   },
   "outputs": [],
   "source": [
    "dp = 0\n",
    "\n",
    "df_pro[df_pro.trial_type == 'encoding'].groupby('subject_id', as_index=False).mean()\n",
    "\n",
    "enc_acc_white = []\n",
    "enc_acc_black = []\n",
    "enc_acc_delta = []\n",
    "enc_rt_white = []\n",
    "enc_rt_black = []\n",
    "enc_rt_delta = []\n",
    "\n",
    "fil_acc = []\n",
    "fil_rt = []\n",
    "\n",
    "ret_acc_white = []\n",
    "ret_acc_black = []\n",
    "ret_acc_delta = []\n",
    "ret_rt_white = []\n",
    "ret_rt_black = []\n",
    "ret_rt_delta = []\n",
    "ret_d_white = []\n",
    "ret_d_black = []\n",
    "ret_d_delta = []\n",
    "\n",
    "for i_sub in df_pro.subject_id.unique():\n",
    "    curr = df_pro[df_pro.subject_id == i_sub]\n",
    "    \n",
    "    enc = curr[curr.trial_type == 'encoding']\n",
    "    # want accuracy for all black faces, accuracy for all white faces\n",
    "    enc_acc_white.append(enc.groupby('oddity_race').mean()['correct']['white'])\n",
    "    enc_acc_black.append(enc.groupby('oddity_race').mean()['correct']['black'])\n",
    "    enc_acc_delta.append( enc.groupby('oddity_race').mean()['correct']['white'] - \n",
    "                         enc.groupby('oddity_race').mean()['correct']['black'])\n",
    "    \n",
    "    enc_rt_white.append(enc.groupby('oddity_race').mean()['rt']['white'])\n",
    "    enc_rt_black.append(enc.groupby('oddity_race').mean()['rt']['black'])\n",
    "    enc_rt_delta.append( enc.groupby('oddity_race').mean()['rt']['white'] - \n",
    "                         enc.groupby('oddity_race').mean()['rt']['black'])\n",
    "    \n",
    "    fil =  curr[curr.trial_type == 'filler']\n",
    "    fil_acc.append(fil.mean()['correct'])\n",
    "    fil_rt.append(fil.mean()['rt'])\n",
    "    \n",
    "    ret = curr[(curr.trial_type == 'retrieval')]\n",
    "    \n",
    "    ret_acc_white.append(ret.groupby('race').mean()['correct']['white'])\n",
    "    ret_acc_black.append(ret.groupby('race').mean()['correct']['black'])\n",
    "    ret_acc_delta.append( ret.groupby('race').mean()['correct']['white'] - \n",
    "                         ret.groupby('race').mean()['correct']['black'])\n",
    "    \n",
    "    ret_rt_white.append(ret.groupby('race').mean()['rt']['white'])\n",
    "    ret_rt_black.append(ret.groupby('race').mean()['rt']['black'])\n",
    "    ret_rt_delta.append( ret.groupby('race').mean()['rt']['white'] - \n",
    "                         ret.groupby('race').mean()['rt']['black'])\n",
    "    \n",
    "    if (dp):\n",
    "        ret_group = ret.groupby(['retrieval_condition', 'race', 'correct'], as_index=False).count()\n",
    "        # 0: old black incorrect\n",
    "        # 1: old black correct\n",
    "        # 2: old white incorrect\n",
    "        # 3: old white correct\n",
    "        fa_b = ret.groupby(['retrieval_condition', 'race', 'correct'], as_index=False).count()['_id'][0]\n",
    "        cr_b = ret.groupby(['retrieval_condition', 'race', 'correct'], as_index=False).count()['_id'][1]\n",
    "        fa_w = ret.groupby(['retrieval_condition', 'race', 'correct'], as_index=False).count()['_id'][2]\n",
    "        cr_w = ret.groupby(['retrieval_condition', 'race', 'correct'], as_index=False).count()['_id'][3]\n",
    "\n",
    "        miss_b = ret.groupby(['retrieval_condition', 'race', 'correct'], as_index=False).count()['_id'][4]\n",
    "        hit_b = ret.groupby(['retrieval_condition', 'race', 'correct'], as_index=False).count()['_id'][5]\n",
    "        miss_w = ret.groupby(['retrieval_condition', 'race', 'correct'], as_index=False).count()['_id'][6]\n",
    "        hit_w = ret.groupby(['retrieval_condition', 'race', 'correct'], as_index=False).count()['_id'][7]\n",
    "\n",
    "        hitrate_b = hit_b / (hit_b+miss_b)\n",
    "        farate_b = fa_b / (fa_b+cr_b)\n",
    "        d_b = norm.ppf(hitrate_b) - norm.ppf(farate_b)\n",
    "\n",
    "        hitrate_w = hit_w / (hit_w+miss_w)\n",
    "        farate_w = fa_w / (fa_w+cr_w)\n",
    "        d_w = norm.ppf(hitrate_w) - norm.ppf(farate_w)\n",
    "\n",
    "        ret_d_white.append(d_w)\n",
    "        ret_d_black.append(d_b)\n",
    "\n",
    "        ret_d_delta.append(d_b - d_w)"
   ]
  },
  {
   "cell_type": "code",
   "execution_count": 28,
   "id": "d960c102",
   "metadata": {},
   "outputs": [],
   "source": [
    "# now we have:\n",
    "# enc_acc_delta \n",
    "# enc_rt_delta \n",
    "# fil_acc \n",
    "# fil_rt \n",
    "# ret_acc_delta \n",
    "# ret_rt_delta \n",
    "# ret_d_delta "
   ]
  },
  {
   "cell_type": "code",
   "execution_count": 34,
   "id": "e213e91a",
   "metadata": {
    "scrolled": true
   },
   "outputs": [
    {
     "data": {
      "image/png": "[encoded data removed]",
      "text/plain": [
       "<Figure size 360x360 with 1 Axes>"
      ]
     },
     "metadata": {
      "needs_background": "light"
     },
     "output_type": "display_data"
    }
   ],
   "source": [
    "enc_rt = np.mean([enc_rt_white, enc_rt_black], axis=0)\n",
    "enc_acc = np.mean([enc_acc_white, enc_acc_black], axis=0)\n",
    "ret_rt = np.mean([ret_rt_white, ret_rt_black], axis=0)\n",
    "ret_acc = np.mean([ret_acc_white, ret_acc_black], axis=0)\n",
    "ret_d = np.mean([ret_d_white, ret_d_black], axis=0)\n",
    "\n",
    "plt.figure(figsize=(5,5))\n",
    "plt.scatter(enc_rt, ret_acc);\n",
    "# plt.xlabel('Encoding accuracy (%)')\n",
    "# plt.ylabel('Encoding RT (ms)')\n",
    "plt.title(\"Encoding accuracy vs retrieval accuracy\", y=1.05);"
   ]
  },
  {
   "cell_type": "code",
   "execution_count": 21,
   "id": "ef7704b8",
   "metadata": {},
   "outputs": [
    {
     "data": {
      "image/png": "[encoded data removed]",
      "text/plain": [
       "<Figure size 360x360 with 1 Axes>"
      ]
     },
     "metadata": {
      "needs_background": "light"
     },
     "output_type": "display_data"
    }
   ],
   "source": [
    "plt.figure(figsize=(5,5))\n",
    "plt.scatter(enc_acc_delta, enc_rt_delta);\n",
    "plt.xlabel('Accuracy on white faces - accuracy on black faces')\n",
    "plt.ylabel('RT on white faces - RT on black faces')\n",
    "plt.title(\"Encoding accuracy vs encoding RT, white - black \", y=1.05);"
   ]
  },
  {
   "cell_type": "code",
   "execution_count": 22,
   "id": "1e332af6",
   "metadata": {},
   "outputs": [
    {
     "ename": "ValueError",
     "evalue": "x and y must be the same size",
     "output_type": "error",
     "traceback": [
      "\u001b[0;31m---------------------------------------------------------------------------\u001b[0m",
      "\u001b[0;31mValueError\u001b[0m                                Traceback (most recent call last)",
      "\u001b[0;32m<ipython-input-22-2d3d6b971bf7>\u001b[0m in \u001b[0;36m<module>\u001b[0;34m\u001b[0m\n\u001b[1;32m      1\u001b[0m \u001b[0mplt\u001b[0m\u001b[0;34m.\u001b[0m\u001b[0mfigure\u001b[0m\u001b[0;34m(\u001b[0m\u001b[0mfigsize\u001b[0m\u001b[0;34m=\u001b[0m\u001b[0;34m(\u001b[0m\u001b[0;36m5\u001b[0m\u001b[0;34m,\u001b[0m\u001b[0;36m5\u001b[0m\u001b[0;34m)\u001b[0m\u001b[0;34m)\u001b[0m\u001b[0;34m\u001b[0m\u001b[0;34m\u001b[0m\u001b[0m\n\u001b[0;32m----> 2\u001b[0;31m \u001b[0mplt\u001b[0m\u001b[0;34m.\u001b[0m\u001b[0mscatter\u001b[0m\u001b[0;34m(\u001b[0m\u001b[0menc_acc_delta\u001b[0m\u001b[0;34m,\u001b[0m \u001b[0mret_d_delta\u001b[0m\u001b[0;34m)\u001b[0m\u001b[0;34m;\u001b[0m\u001b[0;34m\u001b[0m\u001b[0;34m\u001b[0m\u001b[0m\n\u001b[0m\u001b[1;32m      3\u001b[0m \u001b[0mplt\u001b[0m\u001b[0;34m.\u001b[0m\u001b[0mxlabel\u001b[0m\u001b[0;34m(\u001b[0m\u001b[0;34m'Accuracy on white faces - accuracy on black faces'\u001b[0m\u001b[0;34m)\u001b[0m\u001b[0;34m\u001b[0m\u001b[0;34m\u001b[0m\u001b[0m\n\u001b[1;32m      4\u001b[0m \u001b[0mplt\u001b[0m\u001b[0;34m.\u001b[0m\u001b[0mylabel\u001b[0m\u001b[0;34m(\u001b[0m\u001b[0;34m'Retrieval d\\' on white faces - RT on black faces'\u001b[0m\u001b[0;34m)\u001b[0m\u001b[0;34m\u001b[0m\u001b[0;34m\u001b[0m\u001b[0m\n\u001b[1;32m      5\u001b[0m \u001b[0mplt\u001b[0m\u001b[0;34m.\u001b[0m\u001b[0mtitle\u001b[0m\u001b[0;34m(\u001b[0m\u001b[0;34m\"Encoding accuracy vs retrieval d', white - black \"\u001b[0m\u001b[0;34m,\u001b[0m \u001b[0my\u001b[0m\u001b[0;34m=\u001b[0m\u001b[0;36m1.05\u001b[0m\u001b[0;34m)\u001b[0m\u001b[0;34m;\u001b[0m\u001b[0;34m\u001b[0m\u001b[0;34m\u001b[0m\u001b[0m\n",
      "\u001b[0;32m/Applications/anaconda3/envs/memory_bias/lib/python3.7/site-packages/matplotlib/pyplot.py\u001b[0m in \u001b[0;36mscatter\u001b[0;34m(x, y, s, c, marker, cmap, norm, vmin, vmax, alpha, linewidths, verts, edgecolors, plotnonfinite, data, **kwargs)\u001b[0m\n\u001b[1;32m   2845\u001b[0m         \u001b[0mverts\u001b[0m\u001b[0;34m=\u001b[0m\u001b[0mverts\u001b[0m\u001b[0;34m,\u001b[0m \u001b[0medgecolors\u001b[0m\u001b[0;34m=\u001b[0m\u001b[0medgecolors\u001b[0m\u001b[0;34m,\u001b[0m\u001b[0;34m\u001b[0m\u001b[0;34m\u001b[0m\u001b[0m\n\u001b[1;32m   2846\u001b[0m         plotnonfinite=plotnonfinite, **({\"data\": data} if data is not\n\u001b[0;32m-> 2847\u001b[0;31m         None else {}), **kwargs)\n\u001b[0m\u001b[1;32m   2848\u001b[0m     \u001b[0msci\u001b[0m\u001b[0;34m(\u001b[0m\u001b[0m__ret\u001b[0m\u001b[0;34m)\u001b[0m\u001b[0;34m\u001b[0m\u001b[0;34m\u001b[0m\u001b[0m\n\u001b[1;32m   2849\u001b[0m     \u001b[0;32mreturn\u001b[0m \u001b[0m__ret\u001b[0m\u001b[0;34m\u001b[0m\u001b[0;34m\u001b[0m\u001b[0m\n",
      "\u001b[0;32m/Applications/anaconda3/envs/memory_bias/lib/python3.7/site-packages/matplotlib/__init__.py\u001b[0m in \u001b[0;36minner\u001b[0;34m(ax, data, *args, **kwargs)\u001b[0m\n\u001b[1;32m   1599\u001b[0m     \u001b[0;32mdef\u001b[0m \u001b[0minner\u001b[0m\u001b[0;34m(\u001b[0m\u001b[0max\u001b[0m\u001b[0;34m,\u001b[0m \u001b[0;34m*\u001b[0m\u001b[0margs\u001b[0m\u001b[0;34m,\u001b[0m \u001b[0mdata\u001b[0m\u001b[0;34m=\u001b[0m\u001b[0;32mNone\u001b[0m\u001b[0;34m,\u001b[0m \u001b[0;34m**\u001b[0m\u001b[0mkwargs\u001b[0m\u001b[0;34m)\u001b[0m\u001b[0;34m:\u001b[0m\u001b[0;34m\u001b[0m\u001b[0;34m\u001b[0m\u001b[0m\n\u001b[1;32m   1600\u001b[0m         \u001b[0;32mif\u001b[0m \u001b[0mdata\u001b[0m \u001b[0;32mis\u001b[0m \u001b[0;32mNone\u001b[0m\u001b[0;34m:\u001b[0m\u001b[0;34m\u001b[0m\u001b[0;34m\u001b[0m\u001b[0m\n\u001b[0;32m-> 1601\u001b[0;31m             \u001b[0;32mreturn\u001b[0m \u001b[0mfunc\u001b[0m\u001b[0;34m(\u001b[0m\u001b[0max\u001b[0m\u001b[0;34m,\u001b[0m \u001b[0;34m*\u001b[0m\u001b[0mmap\u001b[0m\u001b[0;34m(\u001b[0m\u001b[0msanitize_sequence\u001b[0m\u001b[0;34m,\u001b[0m \u001b[0margs\u001b[0m\u001b[0;34m)\u001b[0m\u001b[0;34m,\u001b[0m \u001b[0;34m**\u001b[0m\u001b[0mkwargs\u001b[0m\u001b[0;34m)\u001b[0m\u001b[0;34m\u001b[0m\u001b[0;34m\u001b[0m\u001b[0m\n\u001b[0m\u001b[1;32m   1602\u001b[0m \u001b[0;34m\u001b[0m\u001b[0m\n\u001b[1;32m   1603\u001b[0m         \u001b[0mbound\u001b[0m \u001b[0;34m=\u001b[0m \u001b[0mnew_sig\u001b[0m\u001b[0;34m.\u001b[0m\u001b[0mbind\u001b[0m\u001b[0;34m(\u001b[0m\u001b[0max\u001b[0m\u001b[0;34m,\u001b[0m \u001b[0;34m*\u001b[0m\u001b[0margs\u001b[0m\u001b[0;34m,\u001b[0m \u001b[0;34m**\u001b[0m\u001b[0mkwargs\u001b[0m\u001b[0;34m)\u001b[0m\u001b[0;34m\u001b[0m\u001b[0;34m\u001b[0m\u001b[0m\n",
      "\u001b[0;32m/Applications/anaconda3/envs/memory_bias/lib/python3.7/site-packages/matplotlib/axes/_axes.py\u001b[0m in \u001b[0;36mscatter\u001b[0;34m(self, x, y, s, c, marker, cmap, norm, vmin, vmax, alpha, linewidths, verts, edgecolors, plotnonfinite, **kwargs)\u001b[0m\n\u001b[1;32m   4442\u001b[0m         \u001b[0my\u001b[0m \u001b[0;34m=\u001b[0m \u001b[0mnp\u001b[0m\u001b[0;34m.\u001b[0m\u001b[0mma\u001b[0m\u001b[0;34m.\u001b[0m\u001b[0mravel\u001b[0m\u001b[0;34m(\u001b[0m\u001b[0my\u001b[0m\u001b[0;34m)\u001b[0m\u001b[0;34m\u001b[0m\u001b[0;34m\u001b[0m\u001b[0m\n\u001b[1;32m   4443\u001b[0m         \u001b[0;32mif\u001b[0m \u001b[0mx\u001b[0m\u001b[0;34m.\u001b[0m\u001b[0msize\u001b[0m \u001b[0;34m!=\u001b[0m \u001b[0my\u001b[0m\u001b[0;34m.\u001b[0m\u001b[0msize\u001b[0m\u001b[0;34m:\u001b[0m\u001b[0;34m\u001b[0m\u001b[0;34m\u001b[0m\u001b[0m\n\u001b[0;32m-> 4444\u001b[0;31m             \u001b[0;32mraise\u001b[0m \u001b[0mValueError\u001b[0m\u001b[0;34m(\u001b[0m\u001b[0;34m\"x and y must be the same size\"\u001b[0m\u001b[0;34m)\u001b[0m\u001b[0;34m\u001b[0m\u001b[0;34m\u001b[0m\u001b[0m\n\u001b[0m\u001b[1;32m   4445\u001b[0m \u001b[0;34m\u001b[0m\u001b[0m\n\u001b[1;32m   4446\u001b[0m         \u001b[0;32mif\u001b[0m \u001b[0ms\u001b[0m \u001b[0;32mis\u001b[0m \u001b[0;32mNone\u001b[0m\u001b[0;34m:\u001b[0m\u001b[0;34m\u001b[0m\u001b[0;34m\u001b[0m\u001b[0m\n",
      "\u001b[0;31mValueError\u001b[0m: x and y must be the same size"
     ]
    },
    {
     "data": {
      "image/png": "[encoded data removed]",
      "text/plain": [
       "<Figure size 360x360 with 1 Axes>"
      ]
     },
     "metadata": {
      "needs_background": "light"
     },
     "output_type": "display_data"
    }
   ],
   "source": [
    "plt.figure(figsize=(5,5))\n",
    "plt.scatter(enc_acc_delta, ret_d_delta);\n",
    "plt.xlabel('Accuracy on white faces - accuracy on black faces')\n",
    "plt.ylabel('Retrieval d\\' on white faces - RT on black faces')\n",
    "plt.title(\"Encoding accuracy vs retrieval d', white - black \", y=1.05);"
   ]
  },
  {
   "cell_type": "code",
   "execution_count": null,
   "id": "c88ef1f7",
   "metadata": {},
   "outputs": [],
   "source": []
  },
  {
   "cell_type": "code",
   "execution_count": null,
   "id": "b8221840",
   "metadata": {},
   "outputs": [],
   "source": []
  },
  {
   "cell_type": "code",
   "execution_count": null,
   "id": "ff0c6f93",
   "metadata": {},
   "outputs": [],
   "source": []
  },
  {
   "cell_type": "markdown",
   "id": "2e17fc66",
   "metadata": {},
   "source": [
    "for test_typicals iteration"
   ]
  },
  {
   "cell_type": "code",
   "execution_count": 109,
   "id": "0cef045b",
   "metadata": {},
   "outputs": [],
   "source": [
    "import scipy.stats as stats"
   ]
  },
  {
   "cell_type": "code",
   "execution_count": 113,
   "id": "f280caea",
   "metadata": {},
   "outputs": [],
   "source": [
    "def compute_dp(n_hit, n_old, n_fa, n_new):\n",
    "    hitrate = n_hit/n_old\n",
    "    farate = n_fa/n_new\n",
    "    \n",
    "    if hitrate == 1 or farate == 0:\n",
    "        # Hautus's correction\n",
    "        hitrate = (n_hit+0.5)/(n_old+1)\n",
    "        farate = (n_fa + 0.5)/(n_old+1)\n",
    "    \n",
    "    return stats.norm.ppf(hitrate) - stats.norm.ppf(farate)\n",
    "\n",
    "def rand_jitter(arr, stdev=1):\n",
    "    return arr + np.random.randn(len(arr)) * stdev"
   ]
  },
  {
   "cell_type": "code",
   "execution_count": 67,
   "id": "d58a1673",
   "metadata": {},
   "outputs": [],
   "source": [
    "import functions as fun"
   ]
  },
  {
   "cell_type": "code",
   "execution_count": 66,
   "id": "5732704d",
   "metadata": {},
   "outputs": [],
   "source": [
    "notilt = df[df.tilt_change.str.contains('00C', na = False)]\n",
    "tilt = df[].tilt_change\n"
   ]
  },
  {
   "cell_type": "code",
   "execution_count": 69,
   "id": "c8a6da53",
   "metadata": {},
   "outputs": [],
   "source": [
    "df['tilted'] = (~pd.isna(df.tilt_change)) &(~df.tilt_change.str.contains('00C', na = False))\n"
   ]
  },
  {
   "cell_type": "code",
   "execution_count": 111,
   "id": "6028cfb1",
   "metadata": {},
   "outputs": [],
   "source": [
    "# want accuracy and d' for tilted and untilted, w and b\n",
    "# acc_w_t = []\n",
    "# acc_w_n = []\n",
    "# acc_b_t = []\n",
    "# acc_b_n = []\n",
    "d_w_t = []\n",
    "d_w_n = []\n",
    "d_b_t = []\n",
    "d_b_n = []\n",
    "\n",
    "for i in df.experiment_id.unique()[~pd.isna(df.experiment_id.unique())]:\n",
    "    curr = df[df.experiment_id == i]\n",
    "    \n",
    "    hit_w_t = len(curr[(curr.retrieval_condition == 'old') & (curr.correct == 1.0) & \n",
    "                   (curr.tilted) & (curr.race == 'white')])\n",
    "    old_w_t = len(curr[(curr.retrieval_condition == 'old') & \n",
    "                       (curr.tilted) & (curr.race == 'white')])\n",
    "    \n",
    "    hit_w_n = len(curr[(curr.retrieval_condition == 'old') & (curr.correct == 1.0) & \n",
    "                   (~curr.tilted) & (curr.race == 'white')])\n",
    "    old_w_n = len(curr[(curr.retrieval_condition == 'old') & \n",
    "                       (~curr.tilted) & (curr.race == 'white')])\n",
    "    \n",
    "    fa_w = len(curr[(curr.retrieval_condition == 'new') & (curr.correct == 0.0) & \n",
    "                    (curr.race == 'white')])\n",
    "    new_w = len(curr[(curr.retrieval_condition == 'new') & (curr.race == 'white')])\n",
    "    \n",
    "    \n",
    "    hit_b_t = len(curr[(curr.retrieval_condition == 'old') & (curr.correct == 1.0) & \n",
    "                   (curr.tilted) & (curr.race == 'black')])\n",
    "    old_b_t = len(curr[(curr.retrieval_condition == 'old') & \n",
    "                       (curr.tilted) & (curr.race == 'black')])\n",
    "    \n",
    "    hit_b_n = len(curr[(curr.retrieval_condition == 'old') & (curr.correct == 1.0) & \n",
    "                   (~curr.tilted) & (curr.race == 'black')])\n",
    "    old_b_n = len(curr[(curr.retrieval_condition == 'old') & \n",
    "                       (~curr.tilted) & (curr.race == 'black')])\n",
    "    \n",
    "    fa_b = len(curr[(curr.retrieval_condition == 'new') & (curr.correct == 0.0) & \n",
    "                    (curr.race == 'black')])\n",
    "    new_b = len(curr[(curr.retrieval_condition == 'new') & (curr.race == 'black')])\n",
    "    \n",
    "    \n",
    "    d_w_t.append(compute_dp(hit_w_t, old_w_t, fa_w, new_w))\n",
    "    d_w_n.append(compute_dp(hit_w_n, old_w_n, fa_w, new_w))\n",
    "    d_b_t.append(compute_dp(hit_b_t, old_b_t, fa_b, new_b))\n",
    "    d_b_n.append(compute_dp(hit_b_n, old_b_n, fa_b, new_b))\n",
    "    "
   ]
  },
  {
   "cell_type": "code",
   "execution_count": 122,
   "id": "640e2da4",
   "metadata": {},
   "outputs": [
    {
     "data": {
      "image/png": "[encoded data removed]",
      "text/plain": [
       "<Figure size 320x320 with 1 Axes>"
      ]
     },
     "metadata": {
      "needs_background": "light"
     },
     "output_type": "display_data"
    }
   ],
   "source": [
    "c = ['blue', 'green']\n",
    "buffer = 2\n",
    "al = 0.1\n",
    "\n",
    "plt.figure(figsize=(4, 4), dpi=80)\n",
    "plt.errorbar(x= np.array([0, 50])-buffer, \n",
    "         y = [np.mean(d_w_n), np.mean(d_w_t)], \n",
    "         yerr = [np.std(d_w_n), np.std(d_w_t)], \n",
    "        capsize =5, marker = 'o', mfc = c[0], mec=c[0], ms =8, ecolor=c[0], color=c[0], label = 'white')\n",
    "\n",
    "plt.errorbar(x= np.array([0, 50])+buffer, \n",
    "          y = [np.mean(d_b_n), np.mean(d_b_t)], \n",
    "         yerr = [np.std(d_b_n), np.std(d_b_t)], \n",
    "        capsize =5, marker = 'o', mfc = c[1], mec=c[1], ms =8, ecolor=c[1], color=c[1], label = 'black')\n",
    "\n",
    "plt.scatter(x = rand_jitter(np.repeat(0-buffer, len(d_w_n)), 1),y = d_w_n, color=c[0], alpha=al)\n",
    "plt.scatter(x = rand_jitter(np.repeat(0+buffer, len(d_b_n)), 1),y = d_b_n, color=c[1], alpha=al)\n",
    "plt.scatter(x = rand_jitter(np.repeat(50-buffer, len(d_w_t)), 1),y = d_w_t, color=c[0], alpha=al)\n",
    "plt.scatter(x = rand_jitter(np.repeat(50+buffer, len(d_b_t)), 1),y = d_b_t, color=c[1], alpha=al)\n",
    "\n",
    "plt.xlabel('Tilt condition at retrieval (absolute value)')\n",
    "plt.xticks([0,50]); plt.xlim(-25,75)\n",
    "plt.ylabel('D\\'')\n",
    "plt.suptitle('D\\' on tilted and untilted old items, by race')\n",
    "plt.title('n=' + str(len(d_w_t)) + ', ±1 SD', fontsize=10)\n",
    "plt.legend()\n",
    "plt.show()"
   ]
  },
  {
   "cell_type": "code",
   "execution_count": null,
   "id": "2f675a07",
   "metadata": {},
   "outputs": [],
   "source": []
  }
 ],
 "metadata": {
  "kernelspec": {
   "display_name": "Python 3",
   "language": "python",
   "name": "python3"
  },
  "language_info": {
   "codemirror_mode": {
    "name": "ipython",
    "version": 3
   },
   "file_extension": ".py",
   "mimetype": "text/x-python",
   "name": "python",
   "nbconvert_exporter": "python",
   "pygments_lexer": "ipython3",
   "version": "3.8.8"
  }
 },
 "nbformat": 4,
 "nbformat_minor": 5
}
