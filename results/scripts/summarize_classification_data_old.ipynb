{
 "cells": [
  {
   "cell_type": "code",
   "execution_count": 1,
   "id": "7e1015ab",
   "metadata": {},
   "outputs": [],
   "source": [
    "import json\n",
    "import numpy as np\n",
    "import pandas as pd\n",
    "from scipy.stats.stats import pearsonr \n",
    "import matplotlib.pyplot as plt\n",
    "import matplotlib.image as mpimg\n",
    "import random\n",
    "import os"
   ]
  },
  {
   "cell_type": "code",
   "execution_count": 3,
   "id": "882164b8",
   "metadata": {},
   "outputs": [],
   "source": [
    "meta_path = '/Users/chrisiyer/_Current/thesis_folder/face_experiment/stimuli/metadata_all_pairs_mb_altered.json'\n",
    "\n",
    "# read file\n",
    "with open(meta_path, 'r') as myfile:\n",
    "    data=myfile.read()\n",
    "\n",
    "# parse file\n",
    "meta = json.loads(data)"
   ]
  },
  {
   "cell_type": "code",
   "execution_count": 4,
   "id": "c9bca570",
   "metadata": {},
   "outputs": [],
   "source": [
    "datapath = '/Users/chrisiyer/_Current/thesis_folder/face_experiment/results/data/classification/'\n",
    "datafile = 'trialdata_faces_classification_task_02_04_2022.csv'\n",
    "data = pd.read_csv(datapath+datafile)\n",
    "data = data[(data.experiment_id != '9be974urmy8wojz5b1kn') & (data.experiment_id != 'px9sufzovs6fmvr1xfsj')] # my test runs"
   ]
  },
  {
   "cell_type": "code",
   "execution_count": 5,
   "id": "09a94d31",
   "metadata": {},
   "outputs": [],
   "source": [
    "# want option of matching race, gender, facial hair\n",
    "# pairs: model_similar, model_group, behavior_similar, behavior_group\n",
    "# for now, just do behavior_similar\n",
    "key_race = {\n",
    "    'black': 0,\n",
    "    'white': 1,\n",
    "    'east_asian': 2,\n",
    "    'south_asian': 3,\n",
    "    'latinx': 4,\n",
    "    'other': 5,\n",
    "}\n",
    "key_gender = {\n",
    "    'woman': 0,\n",
    "    'man': 1,\n",
    "    'other': 2,\n",
    "}\n",
    "# backwards\n",
    "key_race2 = {\n",
    "    0: 'black',\n",
    "    1: 'white',\n",
    "    2: 'east_asian',\n",
    "    3: 'south_asian',\n",
    "    4: 'latinx',\n",
    "    5: 'other',\n",
    "}\n",
    "key_gender2 = {\n",
    "    0: 'woman',\n",
    "    1: 'man',\n",
    "    2: 'other',\n",
    "}"
   ]
  },
  {
   "cell_type": "code",
   "execution_count": 6,
   "id": "5780234b",
   "metadata": {},
   "outputs": [],
   "source": [
    "info = {} # where I will store all my data\n",
    "for item in meta.keys():\n",
    "    info[item] = {\n",
    "        'race_counts': [0,0,0,0,0,0],\n",
    "        'gender_counts': [0,0,0],\n",
    "        'facial_hair': meta[item]['facial_hair']\n",
    "    }"
   ]
  },
  {
   "cell_type": "code",
   "execution_count": 7,
   "id": "74d24ab9",
   "metadata": {},
   "outputs": [],
   "source": [
    "# loop through data.\n",
    "# loop through each race in response_race (excluding numbers) \n",
    "# and add response_race_sure to respective categories\n",
    "# same with gender\n",
    "for i in range(len(data)):\n",
    "    \n",
    "    curr_id = data.iloc[i]['stimulus'][2:5] # id\n",
    "    \n",
    "    for item in key_race.keys():\n",
    "        if item in data.iloc[i]['response_race']:\n",
    "            slider = data.iloc[i]['response_race_sure']\n",
    "            if slider == 0: slider = 100\n",
    "            info[curr_id]['race_counts'][key_race[item]] += slider \n",
    "#             info[curr_id]['race_counts'][key_race[item]] += 1\n",
    "    \n",
    "    for item in key_gender.keys():\n",
    "        if item == 'man':\n",
    "            # only add if 'wo' is not present before man\n",
    "            resp = data.iloc[i]['response_gender']\n",
    "            if item in resp and resp[resp.index('man')-2:resp.index('man')] != 'wo':# CAREFUL:'MAN' is in 'WOMAN'\n",
    "                if slider == 0: slider = 100\n",
    "                info[curr_id]['gender_counts'][key_gender[item]] += slider\n",
    "                 #info[curr_id]['gender_counts'][key_gender[item]] += 1 \n",
    "        else:\n",
    "            # add just if the item is there\n",
    "            if item in data.iloc[i]['response_gender']: # THIS IS THE ISSUE. 'MAN' is in 'WOMAN'\n",
    "                if slider == 0: slider = 100\n",
    "                info[curr_id]['gender_counts'][key_gender[item]] += slider\n",
    "                 #info[curr_id]['gender_counts'][key_gender[item]] += 1 "
   ]
  },
  {
   "cell_type": "code",
   "execution_count": 8,
   "id": "04620665",
   "metadata": {},
   "outputs": [
    {
     "data": {
      "text/plain": [
       "[56, 56, 2, 3, 39, 0]"
      ]
     },
     "execution_count": 8,
     "metadata": {},
     "output_type": "execute_result"
    }
   ],
   "source": [
    "# how many faces were white most of the time?\n",
    "ans = [0,0,0,0,0,0] #black, white, east asian, south asian, latinx, other{\n",
    "for k in info.keys():\n",
    "    m = np.argmax(info[k]['race_counts'])\n",
    "    ans[m] = ans[m]+1\n",
    "ans"
   ]
  },
  {
   "cell_type": "code",
   "execution_count": null,
   "id": "6983b49b",
   "metadata": {},
   "outputs": [],
   "source": []
  },
  {
   "cell_type": "code",
   "execution_count": 9,
   "id": "957e4be3",
   "metadata": {},
   "outputs": [
    {
     "data": {
      "text/html": [
       "<div>\n",
       "<style scoped>\n",
       "    .dataframe tbody tr th:only-of-type {\n",
       "        vertical-align: middle;\n",
       "    }\n",
       "\n",
       "    .dataframe tbody tr th {\n",
       "        vertical-align: top;\n",
       "    }\n",
       "\n",
       "    .dataframe thead th {\n",
       "        text-align: right;\n",
       "    }\n",
       "</style>\n",
       "<table border=\"1\" class=\"dataframe\">\n",
       "  <thead>\n",
       "    <tr style=\"text-align: right;\">\n",
       "      <th></th>\n",
       "      <th>0</th>\n",
       "    </tr>\n",
       "  </thead>\n",
       "  <tbody>\n",
       "    <tr>\n",
       "      <th>0</th>\n",
       "      <td>22</td>\n",
       "    </tr>\n",
       "    <tr>\n",
       "      <th>1</th>\n",
       "      <td>34</td>\n",
       "    </tr>\n",
       "    <tr>\n",
       "      <th>2</th>\n",
       "      <td>24</td>\n",
       "    </tr>\n",
       "    <tr>\n",
       "      <th>3</th>\n",
       "      <td>32</td>\n",
       "    </tr>\n",
       "    <tr>\n",
       "      <th>4</th>\n",
       "      <td>0</td>\n",
       "    </tr>\n",
       "    <tr>\n",
       "      <th>5</th>\n",
       "      <td>0</td>\n",
       "    </tr>\n",
       "  </tbody>\n",
       "</table>\n",
       "</div>"
      ],
      "text/plain": [
       "    0\n",
       "0  22\n",
       "1  34\n",
       "2  24\n",
       "3  32\n",
       "4   0\n",
       "5   0"
      ]
     },
     "execution_count": 9,
     "metadata": {},
     "output_type": "execute_result"
    }
   ],
   "source": [
    "# now I just want race and gender breakdown for black and white faces\n",
    "wm = 0\n",
    "ww = 0\n",
    "bm = 0\n",
    "bw = 0\n",
    "wo = 0\n",
    "bo = 0\n",
    "\n",
    "for k in meta.keys():\n",
    "    if meta[k]['race_common'] == 'black' and meta[k]['gender_common'] == 'woman': bw+=1\n",
    "    if meta[k]['race_common'] == 'black' and meta[k]['gender_common'] == 'man': bm+=1\n",
    "    if meta[k]['race_common'] == 'white' and meta[k]['gender_common'] == 'woman': ww+=1\n",
    "    if meta[k]['race_common'] == 'white' and meta[k]['gender_common'] == 'man': wm+=1 \n",
    "    if meta[k]['race_common'] == 'white' and meta[k]['gender_common'] == 'other': wo+=1  \n",
    "    if meta[k]['race_common'] == 'black' and meta[k]['gender_common'] == 'other': bo+=1  \n",
    "\n",
    "pd.DataFrame([bw,bm,ww,wm,wo,bo]) # other(s) = 0"
   ]
  },
  {
   "cell_type": "code",
   "execution_count": 10,
   "id": "0bb6b7a6",
   "metadata": {},
   "outputs": [
    {
     "name": "stdout",
     "output_type": "stream",
     "text": [
      "gender-mismatch identities white: []\n",
      "gender-mismatch identities black: [36, 85, 124, 137]\n"
     ]
    }
   ],
   "source": [
    "# no women are mismatched between my gender guess and classification judgements. but many are classified as men but guessed woman by me\n",
    "wm = []\n",
    "bm = []\n",
    "\n",
    "for k in meta.keys():\n",
    "    if meta[k]['race_common'] == 'black' and meta[k]['gender_common'] == 'man': \n",
    "        if meta[k]['gender_guess'] != 'm':\n",
    "            bm.append(k)\n",
    "    if meta[k]['race_common'] == 'white' and meta[k]['gender_common'] == 'man':\n",
    "        if meta[k]['gender_guess'] != 'm':\n",
    "            wm.append(k)\n",
    "wm = [int(i) for i in wm]\n",
    "wm.sort()\n",
    "bm = [int(i) for i in bm]\n",
    "bm.sort()\n",
    "print('gender-mismatch identities white:', wm)\n",
    "print('gender-mismatch identities black:', bm)\n"
   ]
  },
  {
   "cell_type": "code",
   "execution_count": null,
   "id": "4868bc7e",
   "metadata": {},
   "outputs": [],
   "source": []
  },
  {
   "cell_type": "code",
   "execution_count": null,
   "id": "48b157e8",
   "metadata": {},
   "outputs": [],
   "source": []
  },
  {
   "cell_type": "code",
   "execution_count": 11,
   "id": "150d6de3",
   "metadata": {},
   "outputs": [],
   "source": [
    "# next: 1) do pairs of behavior_similar look plausible?\n",
    "imstart = '/Users/chrisiyer/_Current/thesis_folder/face_experiment/stimuli/version1_gray_lm/id'\n",
    "imend = '_00C_C.png'"
   ]
  },
  {
   "cell_type": "code",
   "execution_count": 12,
   "id": "f4e2e9ff",
   "metadata": {
    "scrolled": true
   },
   "outputs": [
    {
     "data": {
      "image/png": "[encoded data removed]",
      "text/plain": [
       "<Figure size 432x288 with 1 Axes>"
      ]
     },
     "metadata": {
      "needs_background": "light"
     },
     "output_type": "display_data"
    }
   ],
   "source": [
    "id_ = '021'\n",
    "img = mpimg.imread(imstart + id_ + imend)\n",
    "imgplot = plt.imshow(img)\n",
    "plt.show()\n",
    "\n",
    "for i in range(0):\n",
    "    this_id = meta[id_]['pairs']['behavior_similar_hairmatch'][i]\n",
    "    img = mpimg.imread(imstart + this_id + imend)\n",
    "    imgplot = plt.imshow(img)\n",
    "    plt.show()\n",
    "    \n",
    "# pairs look good!"
   ]
  },
  {
   "cell_type": "code",
   "execution_count": 13,
   "id": "30f174ea",
   "metadata": {},
   "outputs": [],
   "source": [
    "def select_oddities(n):\n",
    "    # just white and black faces, pick a random one\n",
    "    used = []\n",
    "    while (len(used) < n/2):\n",
    "        rand = np.random.choice(list(meta.keys()))\n",
    "        if (rand not in used and meta[rand]['race_common'] == 'white'):\n",
    "            used.append(rand)\n",
    "        \n",
    "    while (len(used) < n):\n",
    "        rand = np.random.choice(list(meta.keys()))\n",
    "        if (rand not in used and meta[rand]['race_common'] in 'black'):\n",
    "            used.append(rand)\n",
    "    return used\n",
    "\n",
    "def get_typical(oddity, used):\n",
    "    order = ['behavior_group_gender_hairmatch_bin', 'behavior_group_hairmatch_bin', 'behavior_group_gender', 'behavior_group', 'behavior_similar']\n",
    "    for strat in order:\n",
    "        pairs = meta[oddity]['pairs'][strat]\n",
    "        np.random.shuffle(pairs)\n",
    "        for face in pairs:\n",
    "            if face not in used:\n",
    "                return face\n",
    "\n",
    "def select_typicals(oddities):\n",
    "    \n",
    "    out = []\n",
    "    for odd in oddities:\n",
    "        out.append(get_typical(odd, oddities + out))\n",
    "    return out"
   ]
  },
  {
   "cell_type": "code",
   "execution_count": 14,
   "id": "00958c44",
   "metadata": {},
   "outputs": [],
   "source": [
    "# SIMULATION\n",
    "n_exp = 1000\n",
    "counts = np.zeros(len(list(meta.keys())))\n",
    "\n",
    "for i in range(n_exp):\n",
    "    # select 40 random oddities from just black and white faces, 20 each\n",
    "    oddities = select_oddities(40)\n",
    "    typicals = select_typicals(oddities)\n",
    "    \n",
    "    for typ in typicals:\n",
    "        counts[int(typ)-1] += 1"
   ]
  },
  {
   "cell_type": "code",
   "execution_count": 15,
   "id": "d0b2d692",
   "metadata": {
    "scrolled": true
   },
   "outputs": [
    {
     "name": "stdout",
     "output_type": "stream",
     "text": [
      "[384. 350. 367. 371. 364. 376. 326. 356. 387. 328. 340. 369. 346. 352.\n",
      " 381. 343. 345. 325. 352. 344. 349. 351. 333. 393. 359. 350. 362. 353.\n",
      " 325. 362. 386. 334. 350. 336. 385. 363. 364. 367. 391. 363. 351. 366.\n",
      " 363. 378. 362. 331. 365. 333. 394. 370. 345. 362. 384. 368. 358. 325.\n",
      " 325. 380. 356. 356. 393. 387. 325. 372. 378. 345. 352. 366. 388. 373.\n",
      " 338. 329. 349. 386. 337. 350. 373. 338. 344. 337. 349. 377. 331. 326.\n",
      " 378. 343. 372. 343. 366. 350. 348. 372. 361. 327. 375. 314. 369. 338.\n",
      " 373. 356. 386. 345. 375. 396. 344. 346. 355. 348. 370. 356. 373. 324.]\n"
     ]
    },
    {
     "data": {
      "image/png": "[encoded data removed]",
      "text/plain": [
       "<Figure size 432x288 with 1 Axes>"
      ]
     },
     "metadata": {
      "needs_background": "light"
     },
     "output_type": "display_data"
    }
   ],
   "source": [
    "# then, get just the indices of counts that correspond to white and black faces\n",
    "idx = []\n",
    "for k in meta.keys():\n",
    "    if meta[k]['race_common'] in ['white', 'black']:\n",
    "        idx.append(int(k)-1)\n",
    "print(counts[idx])\n",
    "plt.plot(range(len(counts[idx])), counts[idx])\n",
    "plt.show()"
   ]
  },
  {
   "cell_type": "code",
   "execution_count": 16,
   "id": "5d645c38",
   "metadata": {},
   "outputs": [
    {
     "data": {
      "text/plain": [
       "[]"
      ]
     },
     "execution_count": 16,
     "metadata": {},
     "output_type": "execute_result"
    }
   ],
   "source": [
    "ids = [str(idx+1).zfill(3) for idx, element in enumerate(counts) if 1 < element < 280]\n",
    "ids"
   ]
  },
  {
   "cell_type": "code",
   "execution_count": 17,
   "id": "133579de",
   "metadata": {
    "scrolled": true
   },
   "outputs": [
    {
     "name": "stdout",
     "output_type": "stream",
     "text": [
      "['017', '148', '152', '076', '123', '088', '114', '151', '031', '109', '003', '101', '084', '141', '155', '018', '125', '029', '013', '054', '153', '051', '007']\n",
      "0.0\n",
      "153\n",
      "109\n",
      "152\n",
      "013\n",
      "155\n",
      "141\n",
      "007\n",
      "123\n",
      "051\n",
      "018\n",
      "076\n",
      "102\n",
      "125\n",
      "151\n",
      "017\n",
      "084\n",
      "031\n",
      "003\n",
      "088\n",
      "114\n",
      "148\n",
      "054\n",
      "029\n",
      "101\n"
     ]
    }
   ],
   "source": [
    "id_ = '102'\n",
    "print(meta[id_]['pairs']['behavior_group_gender_hairmatch_bin'])\n",
    "print(meta[id_]['facial_hair'])\n",
    "for k in meta.keys():\n",
    "    if meta[k]['race_common'] == meta[id_]['race_common']:\n",
    "        if meta[k]['gender_common'] == meta[id_]['gender_common']:\n",
    "            if meta[k]['facial_hair'] == meta[id_]['facial_hair']:\n",
    "                print(k)\n",
    "# print(meta[id_]['race_common'])\n",
    "# print(meta[id_]['gender_common'])\n",
    "# print(meta[id_]['facial_hair'])\n",
    "# print(meta[id_]['pairs']['behavior_group_gender_hairmatch'])"
   ]
  },
  {
   "cell_type": "code",
   "execution_count": 18,
   "id": "1e719018",
   "metadata": {},
   "outputs": [],
   "source": [
    "key_race = {\n",
    "    'black': 0,\n",
    "    'white': 1,\n",
    "    'east_asian': 2,\n",
    "    'south_asian': 3,\n",
    "    'latinx': 4,\n",
    "    'other': 5,\n",
    "}"
   ]
  },
  {
   "cell_type": "code",
   "execution_count": 19,
   "id": "34793306",
   "metadata": {
    "scrolled": true
   },
   "outputs": [],
   "source": [
    "proportions = [ \n",
    "    [], [], [], [], []\n",
    "]\n",
    "\n",
    "for iden in meta.keys():\n",
    "    curr_race = meta[iden]['race_common']\n",
    "    curr_prop = info[iden]['race_counts'][key_race[curr_race]] / np.sum(info[iden]['race_counts'])\n",
    "    \n",
    "    proportions[key_race[curr_race]].append(curr_prop)"
   ]
  },
  {
   "cell_type": "code",
   "execution_count": 20,
   "id": "09968229",
   "metadata": {},
   "outputs": [
    {
     "data": {
      "image/png": "[encoded data removed]",
      "text/plain": [
       "<Figure size 720x360 with 5 Axes>"
      ]
     },
     "metadata": {
      "needs_background": "light"
     },
     "output_type": "display_data"
    }
   ],
   "source": [
    "fig, ax = plt.subplots(1,5, figsize = (10,5))\n",
    "fig.suptitle('Classification reliability')\n",
    "plt.setp(ax, ylabel = 'Portion of responses for most common classified race', ylim=[0,1])\n",
    "for i in range(len(ax)):\n",
    "    ax[i].set_xlabel(key_race2[i])\n",
    "    ax[i].boxplot(proportions[i])\n",
    "    "
   ]
  },
  {
   "cell_type": "code",
   "execution_count": null,
   "id": "1b0869ab",
   "metadata": {},
   "outputs": [],
   "source": []
  },
  {
   "cell_type": "code",
   "execution_count": null,
   "id": "4515d310",
   "metadata": {},
   "outputs": [],
   "source": []
  },
  {
   "cell_type": "code",
   "execution_count": null,
   "id": "d87bd02c",
   "metadata": {},
   "outputs": [],
   "source": []
  },
  {
   "cell_type": "markdown",
   "id": "7a6b2ba1",
   "metadata": {},
   "source": [
    "DEMOGRAPHICS AND SUBJECT COUNTS"
   ]
  },
  {
   "cell_type": "code",
   "execution_count": 17,
   "id": "f86ebeca",
   "metadata": {},
   "outputs": [],
   "source": [
    "dempath = datapath + '/demographics/done/'\n",
    "dem_ignore = pd.read_csv(dempath + 'summarydata_faces_classification_task_02_04_2022.csv')"
   ]
  },
  {
   "cell_type": "code",
   "execution_count": 18,
   "id": "df9085fe",
   "metadata": {},
   "outputs": [],
   "source": [
    "dem2 = pd.DataFrame()\n",
    "for file in os.listdir(dempath):\n",
    "    if 'export' in file:\n",
    "        dem2 = pd.concat([dem2, pd.read_csv(dempath + file)])"
   ]
  },
  {
   "cell_type": "code",
   "execution_count": 19,
   "id": "f176793c",
   "metadata": {},
   "outputs": [
    {
     "name": "stdout",
     "output_type": "stream",
     "text": [
      "N = 241\n"
     ]
    }
   ],
   "source": [
    "ids = []\n",
    "for iden in dem2.participant_id.unique():\n",
    "    if iden in data.subject_id.unique():\n",
    "        ids.append(iden)\n",
    "print('N = ' + str(len(ids)))"
   ]
  },
  {
   "cell_type": "code",
   "execution_count": 61,
   "id": "f84d9690",
   "metadata": {},
   "outputs": [
    {
     "name": "stdout",
     "output_type": "stream",
     "text": [
      "81 153 7\n",
      "241\n"
     ]
    }
   ],
   "source": [
    "m = 0\n",
    "w = 0\n",
    "o = 0\n",
    "\n",
    "races = []\n",
    "for iden in ids:\n",
    "    gender = dem2[dem2.participant_id == iden].Sex.unique()[0]\n",
    "    if gender == \"Male\": m+=1\n",
    "    elif gender == \"Female\": w+=1\n",
    "    else: o +=1\n",
    "        \n",
    "        \n",
    "        \n",
    "print('Gender: men-women-other')\n",
    "print(m,w,o)\n",
    "print('Race:')\n",
    "\n",
    "\n"
   ]
  },
  {
   "cell_type": "code",
   "execution_count": 21,
   "id": "a642d4cc",
   "metadata": {
    "scrolled": true
   },
   "outputs": [
    {
     "name": "stdout",
     "output_type": "stream",
     "text": [
      "Min age:  19.0\n",
      "Max age:  75.0\n",
      "Median age:  31.0\n"
     ]
    }
   ],
   "source": [
    "print('Min age: ', min(dem2[dem2.age > 0.0].age))\n",
    "print('Max age: ', max(dem2[dem2.age > 0.0].age))\n",
    "print('Median age: ', np.median(dem2[dem2.age > 0.0].age))"
   ]
  },
  {
   "cell_type": "code",
   "execution_count": 88,
   "id": "eaf752a6",
   "metadata": {},
   "outputs": [],
   "source": [
    "currpath = '/Users/chrisiyer/_Current/thesis_folder/face_experiment/results/data/classification/demographics/done/'\n",
    "dem1 = pd.DataFrame()\n",
    "for file in os.listdir(currpath):\n",
    "    dem1 = pd.concat([\n",
    "        dem1, pd.read_csv(currpath + file)\n",
    "    ])"
   ]
  },
  {
   "cell_type": "code",
   "execution_count": 90,
   "id": "30fac359",
   "metadata": {},
   "outputs": [
    {
     "name": "stdout",
     "output_type": "stream",
     "text": [
      "N = 216\n"
     ]
    }
   ],
   "source": [
    "exp_test = []\n",
    "for iden in dem1.experiment_id.unique():\n",
    "    if iden in data.experiment_id.unique():\n",
    "        exp_test.append(iden)\n",
    "print('N = ' + str(len(exp_test)))"
   ]
  },
  {
   "cell_type": "code",
   "execution_count": 116,
   "id": "094ded88",
   "metadata": {},
   "outputs": [],
   "source": [
    "def get_race(race):\n",
    "    if race == \"['White']\":\n",
    "        return 'w'\n",
    "    elif race == \"['Asian']\":\n",
    "        return 'a'\n",
    "    elif race == \"['Black']\":\n",
    "        return 'b'\n",
    "    elif race == \"['Latinx']\":\n",
    "        return 'l'\n",
    "    elif race == \"['Native']\":\n",
    "        return 'n'\n",
    "    elif race == \"['Other']\":\n",
    "        return 'o'\n",
    "    elif ',' in race:\n",
    "        return 'm'\n",
    "    else:\n",
    "        print(race)\n",
    "        print('error')\n",
    "    \n",
    "    \n",
    "    "
   ]
  },
  {
   "cell_type": "code",
   "execution_count": 124,
   "id": "a6bf504e",
   "metadata": {},
   "outputs": [],
   "source": [
    "races = []\n",
    "test = []\n",
    "for i in dem1[~pd.isna(dem1.race)].race:\n",
    "    if i != '[]':\n",
    "        races.append(get_race(i))"
   ]
  },
  {
   "cell_type": "code",
   "execution_count": 146,
   "id": "37733ef5",
   "metadata": {},
   "outputs": [
    {
     "name": "stdout",
     "output_type": "stream",
     "text": [
      "white:  0.676\n",
      "black:  0.04\n",
      "asian:  0.136\n",
      "latinx:  0.06\n",
      "native:  0.004\n",
      "multiple:  0.076\n",
      "other:  0.008\n"
     ]
    }
   ],
   "source": [
    "print('white: ', str(races.count('w')/len(races)))\n",
    "print('black: ', str(races.count('b')/len(races)))\n",
    "print('asian: ', str(races.count('a')/len(races)))\n",
    "print('latinx: ', str(races.count('l')/len(races)))\n",
    "print('native: ', str(races.count('n')/len(races)))\n",
    "print('multiple: ', str(races.count('m')/len(races)))\n",
    "print('other: ', str(races.count('o')/len(races)))"
   ]
  },
  {
   "cell_type": "code",
   "execution_count": 143,
   "id": "6daf30c6",
   "metadata": {},
   "outputs": [
    {
     "data": {
      "text/plain": [
       "250"
      ]
     },
     "execution_count": 143,
     "metadata": {},
     "output_type": "execute_result"
    }
   ],
   "source": [
    "len(races)"
   ]
  }
 ],
 "metadata": {
  "kernelspec": {
   "display_name": "Python 3",
   "language": "python",
   "name": "python3"
  },
  "language_info": {
   "codemirror_mode": {
    "name": "ipython",
    "version": 3
   },
   "file_extension": ".py",
   "mimetype": "text/x-python",
   "name": "python",
   "nbconvert_exporter": "python",
   "pygments_lexer": "ipython3",
   "version": "3.8.8"
  }
 },
 "nbformat": 4,
 "nbformat_minor": 5
}
